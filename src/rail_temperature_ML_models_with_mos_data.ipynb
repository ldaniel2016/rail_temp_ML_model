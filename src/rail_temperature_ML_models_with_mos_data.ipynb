{
 "cells": [
  {
   "cell_type": "markdown",
   "id": "3faad244",
   "metadata": {},
   "source": [
    "## This program develops the ML model for predictiong the rail temperature"
   ]
  },
  {
   "cell_type": "code",
   "execution_count": 1,
   "id": "f431e608",
   "metadata": {},
   "outputs": [],
   "source": [
    "import pandas as pd\n",
    "import numpy as np \n",
    "import matplotlib.pyplot as plt\n",
    "import time"
   ]
  },
  {
   "cell_type": "code",
   "execution_count": 2,
   "id": "1df0afba",
   "metadata": {},
   "outputs": [],
   "source": [
    "from sklearn import linear_model\n",
    "from sklearn.model_selection import train_test_split\n",
    "from sklearn.preprocessing import StandardScaler\n"
   ]
  },
  {
   "cell_type": "code",
   "execution_count": 3,
   "id": "55f82a05",
   "metadata": {},
   "outputs": [],
   "source": [
    "from sklearn.ensemble import RandomForestRegressor\n",
    "from sklearn.tree import DecisionTreeRegressor\n",
    "from sklearn.metrics import mean_squared_error\n",
    "from sklearn.inspection import permutation_importance\n",
    "from sklearn import metrics\n",
    "from sklearn.model_selection import cross_val_score\n",
    "from sklearn.linear_model import LinearRegression\n",
    "from sklearn import preprocessing\n",
    "from sklearn.preprocessing import PolynomialFeatures\n",
    "from sklearn.model_selection import RandomizedSearchCV\n",
    "from sklearn.ensemble import GradientBoostingRegressor\n"
   ]
  },
  {
   "cell_type": "code",
   "execution_count": 4,
   "id": "b34a16aa",
   "metadata": {},
   "outputs": [],
   "source": [
    "import xgboost as xgb\n",
    "from xgboost import XGBRegressor\n"
   ]
  },
  {
   "cell_type": "code",
   "execution_count": 5,
   "id": "c522c000",
   "metadata": {},
   "outputs": [],
   "source": [
    "import time\n",
    "import sys\n",
    "import matplotlib.pyplot as plt\n",
    "import seaborn as sns\n",
    "import math\n"
   ]
  },
  {
   "cell_type": "code",
   "execution_count": 6,
   "id": "293ce382",
   "metadata": {},
   "outputs": [
    {
     "data": {
      "text/plain": [
       "(3216227, 27)"
      ]
     },
     "execution_count": 6,
     "metadata": {},
     "output_type": "execute_result"
    }
   ],
   "source": [
    "df =  pd.read_csv(r'/home/daniel/projects/rails/data/rail_temperatures_mos_data.csv', sep = ',')\n",
    "df.shape"
   ]
  },
  {
   "cell_type": "code",
   "execution_count": 7,
   "id": "d8eff89a",
   "metadata": {},
   "outputs": [
    {
     "data": {
      "text/plain": [
       "lat                0\n",
       "lon                0\n",
       "analysis_date      0\n",
       "analysis_time      0\n",
       "forecast_time      0\n",
       "forecast_period    0\n",
       "MSL                0\n",
       "T2                 0\n",
       "D2                 0\n",
       "U10                0\n",
       "V10                0\n",
       "LCC                0\n",
       "MCC                0\n",
       "SKT                0\n",
       "cosmonth           0\n",
       "sinmonth           0\n",
       "coshour            0\n",
       "sinhour            0\n",
       "hourly_SRR         0\n",
       "hourly_STR         0\n",
       "hourly_SLHF        0\n",
       "hourly_SSHF        0\n",
       "X                  0\n",
       "Y                  0\n",
       "Timestamp          0\n",
       "TAir               0\n",
       "TRail              0\n",
       "dtype: int64"
      ]
     },
     "execution_count": 7,
     "metadata": {},
     "output_type": "execute_result"
    }
   ],
   "source": [
    "df.isnull().sum()"
   ]
  },
  {
   "cell_type": "code",
   "execution_count": 7,
   "id": "c7683214",
   "metadata": {},
   "outputs": [
    {
     "data": {
      "text/plain": [
       "lat                float64\n",
       "lon                float64\n",
       "analysis_date       object\n",
       "analysis_time        int64\n",
       "forecast_time       object\n",
       "forecast_period      int64\n",
       "MSL                float64\n",
       "T2                 float64\n",
       "D2                 float64\n",
       "U10                float64\n",
       "V10                float64\n",
       "LCC                float64\n",
       "MCC                float64\n",
       "SKT                float64\n",
       "cosmonth           float64\n",
       "sinmonth           float64\n",
       "coshour            float64\n",
       "sinhour            float64\n",
       "hourly_SRR         float64\n",
       "hourly_STR         float64\n",
       "hourly_SLHF        float64\n",
       "hourly_SSHF        float64\n",
       "X                    int64\n",
       "Y                    int64\n",
       "Timestamp           object\n",
       "TAir               float64\n",
       "TRail              float64\n",
       "dtype: object"
      ]
     },
     "execution_count": 7,
     "metadata": {},
     "output_type": "execute_result"
    }
   ],
   "source": [
    "df.dtypes"
   ]
  },
  {
   "cell_type": "code",
   "execution_count": 7,
   "id": "3dd3360d",
   "metadata": {},
   "outputs": [
    {
     "data": {
      "text/plain": [
       "(-29.0, 50.0)"
      ]
     },
     "execution_count": 7,
     "metadata": {},
     "output_type": "execute_result"
    }
   ],
   "source": [
    "(min(df.TRail), max(df.TRail))"
   ]
  },
  {
   "cell_type": "code",
   "execution_count": 8,
   "id": "b66bd726",
   "metadata": {},
   "outputs": [
    {
     "data": {
      "text/plain": [
       "lat                float32\n",
       "lon                float32\n",
       "analysis_date       object\n",
       "analysis_time        int64\n",
       "forecast_time       object\n",
       "forecast_period      int64\n",
       "MSL                float32\n",
       "T2                 float32\n",
       "D2                 float32\n",
       "U10                float32\n",
       "V10                float32\n",
       "LCC                float32\n",
       "MCC                float32\n",
       "SKT                float32\n",
       "cosmonth           float32\n",
       "sinmonth           float32\n",
       "coshour            float32\n",
       "sinhour            float32\n",
       "hourly_SRR         float32\n",
       "hourly_STR         float32\n",
       "hourly_SLHF        float32\n",
       "hourly_SSHF        float32\n",
       "X                    int64\n",
       "Y                    int64\n",
       "Timestamp           object\n",
       "TAir               float32\n",
       "TRail              float32\n",
       "dtype: object"
      ]
     },
     "execution_count": 8,
     "metadata": {},
     "output_type": "execute_result"
    }
   ],
   "source": [
    "cols = df.select_dtypes(include=[np.float64]).columns\n",
    "cols\n",
    "df[cols] = df[cols].astype(np.float32)\n",
    "df.dtypes"
   ]
  },
  {
   "cell_type": "code",
   "execution_count": 9,
   "id": "65044cf3",
   "metadata": {},
   "outputs": [
    {
     "data": {
      "text/plain": [
       "lat                float32\n",
       "lon                float32\n",
       "analysis_date       object\n",
       "analysis_time        int32\n",
       "forecast_time       object\n",
       "forecast_period      int32\n",
       "MSL                float32\n",
       "T2                 float32\n",
       "D2                 float32\n",
       "U10                float32\n",
       "V10                float32\n",
       "LCC                float32\n",
       "MCC                float32\n",
       "SKT                float32\n",
       "cosmonth           float32\n",
       "sinmonth           float32\n",
       "coshour            float32\n",
       "sinhour            float32\n",
       "hourly_SRR         float32\n",
       "hourly_STR         float32\n",
       "hourly_SLHF        float32\n",
       "hourly_SSHF        float32\n",
       "X                    int32\n",
       "Y                    int32\n",
       "Timestamp           object\n",
       "TAir               float32\n",
       "TRail              float32\n",
       "dtype: object"
      ]
     },
     "execution_count": 9,
     "metadata": {},
     "output_type": "execute_result"
    }
   ],
   "source": [
    "cols = df.select_dtypes(include=[np.int64]).columns\n",
    "cols\n",
    "df[cols] = df[cols].astype(np.int32)\n",
    "df.dtypes"
   ]
  },
  {
   "cell_type": "code",
   "execution_count": 11,
   "id": "1f42ec23",
   "metadata": {},
   "outputs": [
    {
     "data": {
      "text/plain": [
       "Index(['lat', 'lon', 'analysis_date', 'analysis_time', 'forecast_time',\n",
       "       'forecast_period', 'MSL', 'T2', 'D2', 'U10', 'V10', 'LCC', 'MCC', 'SKT',\n",
       "       'cosmonth', 'sinmonth', 'coshour', 'sinhour', 'hourly_SRR',\n",
       "       'hourly_STR', 'hourly_SLHF', 'hourly_SSHF', 'X', 'Y', 'Timestamp',\n",
       "       'TAir', 'TRail'],\n",
       "      dtype='object')"
      ]
     },
     "execution_count": 11,
     "metadata": {},
     "output_type": "execute_result"
    }
   ],
   "source": [
    "df.columns"
   ]
  },
  {
   "cell_type": "code",
   "execution_count": 12,
   "id": "6401708a",
   "metadata": {},
   "outputs": [
    {
     "data": {
      "text/plain": [
       "0          14.0\n",
       "1          14.0\n",
       "2          14.0\n",
       "3          14.0\n",
       "4          14.0\n",
       "           ... \n",
       "3216222    -2.0\n",
       "3216223    -2.0\n",
       "3216224    -2.0\n",
       "3216225    -3.0\n",
       "3216226    -3.0\n",
       "Name: TRail, Length: 3216227, dtype: float32"
      ]
     },
     "execution_count": 12,
     "metadata": {},
     "output_type": "execute_result"
    }
   ],
   "source": [
    "# Rail temp in degree celsius\n",
    "df.TRail"
   ]
  },
  {
   "cell_type": "code",
   "execution_count": 10,
   "id": "4fa132cc",
   "metadata": {},
   "outputs": [],
   "source": [
    "# converting T2, D2 and SKT to degree celsius\n",
    "df.T2= df['T2'] - 273.15\n",
    "df.D2 = df['D2'] - 273.15\n",
    "df.SKT = df['SKT'] - 273.15"
   ]
  },
  {
   "cell_type": "code",
   "execution_count": 11,
   "id": "c61464ec",
   "metadata": {},
   "outputs": [
    {
     "data": {
      "text/plain": [
       "0          11.149994\n",
       "1          10.750000\n",
       "2          10.850006\n",
       "3           9.050018\n",
       "4          10.149994\n",
       "             ...    \n",
       "3216222    -5.250000\n",
       "3216223    -5.549988\n",
       "3216224    -5.250000\n",
       "3216225    -6.049988\n",
       "3216226    -6.149994\n",
       "Name: T2, Length: 3216227, dtype: float32"
      ]
     },
     "execution_count": 11,
     "metadata": {},
     "output_type": "execute_result"
    }
   ],
   "source": [
    "df.T2"
   ]
  },
  {
   "cell_type": "code",
   "execution_count": 12,
   "id": "c8f7aa0c",
   "metadata": {},
   "outputs": [],
   "source": [
    "#xvar = ['lat', 'lon','forecast_period', 'T2', 'D2', 'SKT','U10', 'V10', \n",
    "        'sinhour', 'hourly_SRR','hourly_STR', 'hourly_SLHF', \n",
    "        'hourly_SSHF']\n"
   ]
  },
  {
   "cell_type": "code",
   "execution_count": 13,
   "id": "19a10251",
   "metadata": {},
   "outputs": [],
   "source": [
    "X = df.loc[:, xvar]\n",
    "y = df.loc[:,'TRail']"
   ]
  },
  {
   "cell_type": "code",
   "execution_count": 14,
   "id": "a32199bc",
   "metadata": {},
   "outputs": [
    {
     "name": "stdout",
     "output_type": "stream",
     "text": [
      "(2572981, 13) (643246, 13) (2572981,) (643246,)\n"
     ]
    }
   ],
   "source": [
    "from sklearn.model_selection import train_test_split\n",
    "X_train, X_test, y_train, y_test = train_test_split(X, y, test_size=0.2)\n",
    "print(X_train.shape, X_test.shape, y_train.shape, y_test.shape)"
   ]
  },
  {
   "cell_type": "code",
   "execution_count": 15,
   "id": "c881cd7a",
   "metadata": {},
   "outputs": [
    {
     "data": {
      "text/html": [
       "<div>\n",
       "<style scoped>\n",
       "    .dataframe tbody tr th:only-of-type {\n",
       "        vertical-align: middle;\n",
       "    }\n",
       "\n",
       "    .dataframe tbody tr th {\n",
       "        vertical-align: top;\n",
       "    }\n",
       "\n",
       "    .dataframe thead th {\n",
       "        text-align: right;\n",
       "    }\n",
       "</style>\n",
       "<table border=\"1\" class=\"dataframe\">\n",
       "  <thead>\n",
       "    <tr style=\"text-align: right;\">\n",
       "      <th></th>\n",
       "      <th>lat</th>\n",
       "      <th>lon</th>\n",
       "      <th>forecast_period</th>\n",
       "      <th>T2</th>\n",
       "      <th>D2</th>\n",
       "      <th>SKT</th>\n",
       "      <th>U10</th>\n",
       "      <th>V10</th>\n",
       "      <th>sinhour</th>\n",
       "      <th>hourly_SRR</th>\n",
       "      <th>hourly_STR</th>\n",
       "      <th>hourly_SLHF</th>\n",
       "      <th>hourly_SSHF</th>\n",
       "      <th>TRail</th>\n",
       "    </tr>\n",
       "  </thead>\n",
       "  <tbody>\n",
       "    <tr>\n",
       "      <th>3072628</th>\n",
       "      <td>60.907848</td>\n",
       "      <td>27.285547</td>\n",
       "      <td>70</td>\n",
       "      <td>16.950012</td>\n",
       "      <td>6.950012</td>\n",
       "      <td>17.450012</td>\n",
       "      <td>-1.9</td>\n",
       "      <td>-1.6</td>\n",
       "      <td>0.50</td>\n",
       "      <td>1.363460e+06</td>\n",
       "      <td>-227905.000000</td>\n",
       "      <td>-438263.000000</td>\n",
       "      <td>-522849.000000</td>\n",
       "      <td>6.0</td>\n",
       "    </tr>\n",
       "    <tr>\n",
       "      <th>42570</th>\n",
       "      <td>62.397831</td>\n",
       "      <td>30.027159</td>\n",
       "      <td>21</td>\n",
       "      <td>2.450012</td>\n",
       "      <td>-0.549988</td>\n",
       "      <td>2.149994</td>\n",
       "      <td>4.2</td>\n",
       "      <td>-3.8</td>\n",
       "      <td>0.71</td>\n",
       "      <td>6.526462e+05</td>\n",
       "      <td>-85662.796875</td>\n",
       "      <td>-165557.296875</td>\n",
       "      <td>-184706.093750</td>\n",
       "      <td>3.0</td>\n",
       "    </tr>\n",
       "    <tr>\n",
       "      <th>1217287</th>\n",
       "      <td>63.891666</td>\n",
       "      <td>23.854307</td>\n",
       "      <td>42</td>\n",
       "      <td>1.950012</td>\n",
       "      <td>-4.549988</td>\n",
       "      <td>1.649994</td>\n",
       "      <td>6.1</td>\n",
       "      <td>2.0</td>\n",
       "      <td>1.00</td>\n",
       "      <td>0.000000e+00</td>\n",
       "      <td>-274726.500000</td>\n",
       "      <td>-30276.199219</td>\n",
       "      <td>361659.000000</td>\n",
       "      <td>1.0</td>\n",
       "    </tr>\n",
       "    <tr>\n",
       "      <th>2985378</th>\n",
       "      <td>64.879318</td>\n",
       "      <td>25.503368</td>\n",
       "      <td>138</td>\n",
       "      <td>-9.149994</td>\n",
       "      <td>-13.149994</td>\n",
       "      <td>-9.850006</td>\n",
       "      <td>-3.4</td>\n",
       "      <td>0.1</td>\n",
       "      <td>-1.00</td>\n",
       "      <td>2.133733e+04</td>\n",
       "      <td>-223944.000000</td>\n",
       "      <td>-19313.900391</td>\n",
       "      <td>190216.500000</td>\n",
       "      <td>-6.0</td>\n",
       "    </tr>\n",
       "    <tr>\n",
       "      <th>2416239</th>\n",
       "      <td>62.487370</td>\n",
       "      <td>27.195679</td>\n",
       "      <td>51</td>\n",
       "      <td>-4.049988</td>\n",
       "      <td>-7.949982</td>\n",
       "      <td>-5.149994</td>\n",
       "      <td>-0.3</td>\n",
       "      <td>2.8</td>\n",
       "      <td>-0.71</td>\n",
       "      <td>9.126200e+04</td>\n",
       "      <td>-344633.000000</td>\n",
       "      <td>-22234.800781</td>\n",
       "      <td>117088.500000</td>\n",
       "      <td>2.0</td>\n",
       "    </tr>\n",
       "    <tr>\n",
       "      <th>...</th>\n",
       "      <td>...</td>\n",
       "      <td>...</td>\n",
       "      <td>...</td>\n",
       "      <td>...</td>\n",
       "      <td>...</td>\n",
       "      <td>...</td>\n",
       "      <td>...</td>\n",
       "      <td>...</td>\n",
       "      <td>...</td>\n",
       "      <td>...</td>\n",
       "      <td>...</td>\n",
       "      <td>...</td>\n",
       "      <td>...</td>\n",
       "      <td>...</td>\n",
       "    </tr>\n",
       "    <tr>\n",
       "      <th>1771965</th>\n",
       "      <td>61.280910</td>\n",
       "      <td>23.750443</td>\n",
       "      <td>84</td>\n",
       "      <td>-1.250000</td>\n",
       "      <td>-3.449982</td>\n",
       "      <td>-1.149994</td>\n",
       "      <td>-2.2</td>\n",
       "      <td>-1.8</td>\n",
       "      <td>0.00</td>\n",
       "      <td>5.671290e+04</td>\n",
       "      <td>-78889.000000</td>\n",
       "      <td>-82239.500000</td>\n",
       "      <td>10867.000000</td>\n",
       "      <td>-2.0</td>\n",
       "    </tr>\n",
       "    <tr>\n",
       "      <th>525781</th>\n",
       "      <td>61.838333</td>\n",
       "      <td>25.111172</td>\n",
       "      <td>22</td>\n",
       "      <td>12.450012</td>\n",
       "      <td>2.649994</td>\n",
       "      <td>13.149994</td>\n",
       "      <td>-0.9</td>\n",
       "      <td>-4.9</td>\n",
       "      <td>0.50</td>\n",
       "      <td>1.538068e+06</td>\n",
       "      <td>-315485.500000</td>\n",
       "      <td>-485270.687500</td>\n",
       "      <td>-666525.000000</td>\n",
       "      <td>14.0</td>\n",
       "    </tr>\n",
       "    <tr>\n",
       "      <th>2857886</th>\n",
       "      <td>64.879318</td>\n",
       "      <td>25.503368</td>\n",
       "      <td>33</td>\n",
       "      <td>18.050018</td>\n",
       "      <td>15.149994</td>\n",
       "      <td>19.250000</td>\n",
       "      <td>0.7</td>\n",
       "      <td>-0.6</td>\n",
       "      <td>0.71</td>\n",
       "      <td>1.163648e+06</td>\n",
       "      <td>-165713.000000</td>\n",
       "      <td>-484910.000000</td>\n",
       "      <td>-350314.593750</td>\n",
       "      <td>14.0</td>\n",
       "    </tr>\n",
       "    <tr>\n",
       "      <th>1177065</th>\n",
       "      <td>60.907742</td>\n",
       "      <td>27.283697</td>\n",
       "      <td>87</td>\n",
       "      <td>19.050018</td>\n",
       "      <td>4.250000</td>\n",
       "      <td>19.149994</td>\n",
       "      <td>-0.4</td>\n",
       "      <td>2.1</td>\n",
       "      <td>-0.71</td>\n",
       "      <td>1.371336e+06</td>\n",
       "      <td>-383418.000000</td>\n",
       "      <td>-453450.000000</td>\n",
       "      <td>-359622.000000</td>\n",
       "      <td>37.0</td>\n",
       "    </tr>\n",
       "    <tr>\n",
       "      <th>2749005</th>\n",
       "      <td>64.879318</td>\n",
       "      <td>25.503368</td>\n",
       "      <td>117</td>\n",
       "      <td>2.350006</td>\n",
       "      <td>1.550018</td>\n",
       "      <td>2.149994</td>\n",
       "      <td>1.1</td>\n",
       "      <td>2.8</td>\n",
       "      <td>0.71</td>\n",
       "      <td>1.646173e+05</td>\n",
       "      <td>-26692.000000</td>\n",
       "      <td>13731.666992</td>\n",
       "      <td>27757.333984</td>\n",
       "      <td>7.0</td>\n",
       "    </tr>\n",
       "  </tbody>\n",
       "</table>\n",
       "<p>643246 rows × 14 columns</p>\n",
       "</div>"
      ],
      "text/plain": [
       "               lat        lon  forecast_period         T2         D2  \\\n",
       "3072628  60.907848  27.285547               70  16.950012   6.950012   \n",
       "42570    62.397831  30.027159               21   2.450012  -0.549988   \n",
       "1217287  63.891666  23.854307               42   1.950012  -4.549988   \n",
       "2985378  64.879318  25.503368              138  -9.149994 -13.149994   \n",
       "2416239  62.487370  27.195679               51  -4.049988  -7.949982   \n",
       "...            ...        ...              ...        ...        ...   \n",
       "1771965  61.280910  23.750443               84  -1.250000  -3.449982   \n",
       "525781   61.838333  25.111172               22  12.450012   2.649994   \n",
       "2857886  64.879318  25.503368               33  18.050018  15.149994   \n",
       "1177065  60.907742  27.283697               87  19.050018   4.250000   \n",
       "2749005  64.879318  25.503368              117   2.350006   1.550018   \n",
       "\n",
       "               SKT  U10  V10  sinhour    hourly_SRR     hourly_STR  \\\n",
       "3072628  17.450012 -1.9 -1.6     0.50  1.363460e+06 -227905.000000   \n",
       "42570     2.149994  4.2 -3.8     0.71  6.526462e+05  -85662.796875   \n",
       "1217287   1.649994  6.1  2.0     1.00  0.000000e+00 -274726.500000   \n",
       "2985378  -9.850006 -3.4  0.1    -1.00  2.133733e+04 -223944.000000   \n",
       "2416239  -5.149994 -0.3  2.8    -0.71  9.126200e+04 -344633.000000   \n",
       "...            ...  ...  ...      ...           ...            ...   \n",
       "1771965  -1.149994 -2.2 -1.8     0.00  5.671290e+04  -78889.000000   \n",
       "525781   13.149994 -0.9 -4.9     0.50  1.538068e+06 -315485.500000   \n",
       "2857886  19.250000  0.7 -0.6     0.71  1.163648e+06 -165713.000000   \n",
       "1177065  19.149994 -0.4  2.1    -0.71  1.371336e+06 -383418.000000   \n",
       "2749005   2.149994  1.1  2.8     0.71  1.646173e+05  -26692.000000   \n",
       "\n",
       "           hourly_SLHF    hourly_SSHF  TRail  \n",
       "3072628 -438263.000000 -522849.000000    6.0  \n",
       "42570   -165557.296875 -184706.093750    3.0  \n",
       "1217287  -30276.199219  361659.000000    1.0  \n",
       "2985378  -19313.900391  190216.500000   -6.0  \n",
       "2416239  -22234.800781  117088.500000    2.0  \n",
       "...                ...            ...    ...  \n",
       "1771965  -82239.500000   10867.000000   -2.0  \n",
       "525781  -485270.687500 -666525.000000   14.0  \n",
       "2857886 -484910.000000 -350314.593750   14.0  \n",
       "1177065 -453450.000000 -359622.000000   37.0  \n",
       "2749005   13731.666992   27757.333984    7.0  \n",
       "\n",
       "[643246 rows x 14 columns]"
      ]
     },
     "execution_count": 15,
     "metadata": {},
     "output_type": "execute_result"
    }
   ],
   "source": [
    "# This dataframe we use to plot the graph of RMSE vs forecast_period\n",
    "df_test = pd.concat([X_test, y_test], axis = 1)\n",
    "df_test"
   ]
  },
  {
   "cell_type": "code",
   "execution_count": 20,
   "id": "4b4eb25e",
   "metadata": {},
   "outputs": [],
   "source": [
    "# create scaling object based on X_train and scale both X_train and X_text\n",
    "from sklearn.preprocessing import StandardScaler\n",
    "scaler = StandardScaler()\n",
    "#fit scaler to training data\n",
    "scaler.fit(X_train)\n",
    "X_train = scaler.transform(X_train)\n",
    "X_test = scaler.transform(X_test)"
   ]
  },
  {
   "cell_type": "code",
   "execution_count": 16,
   "id": "95eb1757",
   "metadata": {},
   "outputs": [],
   "source": [
    "# only xgb\n",
    "regressor = xgb.XGBRegressor(n_estimators=100, max_depth=11, eta=0.3, subsample=0.7, colsample_bytree=0.8)\n"
   ]
  },
  {
   "cell_type": "code",
   "execution_count": 22,
   "id": "73d7d70d",
   "metadata": {
    "scrolled": true
   },
   "outputs": [
    {
     "name": "stdout",
     "output_type": "stream",
     "text": [
      "XGB train error: 2.6175382\n",
      "XGB test error: 2.8395302\n"
     ]
    }
   ],
   "source": [
    "# normalized data\n",
    "regressor.fit(X_train, y_train)\n",
    "\n",
    "y_trP = regressor.predict(X_train)\n",
    "y_tsP = regressor.predict(X_test)\n",
    "\n",
    "print('XGB train error:', mean_squared_error(y_train,y_trP,squared=False))\n",
    "print('XGB test error:', mean_squared_error(y_test,y_tsP,squared=False))\n"
   ]
  },
  {
   "cell_type": "code",
   "execution_count": 39,
   "id": "c7866af5",
   "metadata": {},
   "outputs": [
    {
     "data": {
      "text/html": [
       "<div>\n",
       "<style scoped>\n",
       "    .dataframe tbody tr th:only-of-type {\n",
       "        vertical-align: middle;\n",
       "    }\n",
       "\n",
       "    .dataframe tbody tr th {\n",
       "        vertical-align: top;\n",
       "    }\n",
       "\n",
       "    .dataframe thead th {\n",
       "        text-align: right;\n",
       "    }\n",
       "</style>\n",
       "<table border=\"1\" class=\"dataframe\">\n",
       "  <thead>\n",
       "    <tr style=\"text-align: right;\">\n",
       "      <th></th>\n",
       "      <th>lat</th>\n",
       "      <th>lon</th>\n",
       "      <th>forecast_period</th>\n",
       "      <th>T2</th>\n",
       "      <th>D2</th>\n",
       "      <th>SKT</th>\n",
       "      <th>sinhour</th>\n",
       "      <th>hourly_SRR</th>\n",
       "    </tr>\n",
       "  </thead>\n",
       "  <tbody>\n",
       "    <tr>\n",
       "      <th>2347985</th>\n",
       "      <td>61.044735</td>\n",
       "      <td>26.736919</td>\n",
       "      <td>25</td>\n",
       "      <td>1.450012</td>\n",
       "      <td>0.750000</td>\n",
       "      <td>1.149994</td>\n",
       "      <td>-0.26</td>\n",
       "      <td>2.165970e+04</td>\n",
       "    </tr>\n",
       "    <tr>\n",
       "      <th>27118</th>\n",
       "      <td>62.397831</td>\n",
       "      <td>30.027159</td>\n",
       "      <td>27</td>\n",
       "      <td>-4.049988</td>\n",
       "      <td>-6.750000</td>\n",
       "      <td>-4.250000</td>\n",
       "      <td>-0.71</td>\n",
       "      <td>0.000000e+00</td>\n",
       "    </tr>\n",
       "    <tr>\n",
       "      <th>3151168</th>\n",
       "      <td>60.907848</td>\n",
       "      <td>27.285547</td>\n",
       "      <td>57</td>\n",
       "      <td>-6.250000</td>\n",
       "      <td>-8.250000</td>\n",
       "      <td>-6.149994</td>\n",
       "      <td>0.71</td>\n",
       "      <td>1.275286e+05</td>\n",
       "    </tr>\n",
       "    <tr>\n",
       "      <th>1904684</th>\n",
       "      <td>61.280910</td>\n",
       "      <td>23.750443</td>\n",
       "      <td>50</td>\n",
       "      <td>-1.049988</td>\n",
       "      <td>-2.149994</td>\n",
       "      <td>-1.149994</td>\n",
       "      <td>-0.50</td>\n",
       "      <td>0.000000e+00</td>\n",
       "    </tr>\n",
       "    <tr>\n",
       "      <th>1595309</th>\n",
       "      <td>63.891666</td>\n",
       "      <td>23.854307</td>\n",
       "      <td>64</td>\n",
       "      <td>7.450012</td>\n",
       "      <td>4.649994</td>\n",
       "      <td>7.649994</td>\n",
       "      <td>0.87</td>\n",
       "      <td>4.043160e+05</td>\n",
       "    </tr>\n",
       "    <tr>\n",
       "      <th>...</th>\n",
       "      <td>...</td>\n",
       "      <td>...</td>\n",
       "      <td>...</td>\n",
       "      <td>...</td>\n",
       "      <td>...</td>\n",
       "      <td>...</td>\n",
       "      <td>...</td>\n",
       "      <td>...</td>\n",
       "    </tr>\n",
       "    <tr>\n",
       "      <th>1487213</th>\n",
       "      <td>63.891666</td>\n",
       "      <td>23.854307</td>\n",
       "      <td>12</td>\n",
       "      <td>1.850006</td>\n",
       "      <td>-12.250000</td>\n",
       "      <td>2.750000</td>\n",
       "      <td>0.00</td>\n",
       "      <td>2.031029e+06</td>\n",
       "    </tr>\n",
       "    <tr>\n",
       "      <th>1751894</th>\n",
       "      <td>61.280910</td>\n",
       "      <td>23.750443</td>\n",
       "      <td>6</td>\n",
       "      <td>6.750000</td>\n",
       "      <td>6.649994</td>\n",
       "      <td>6.750000</td>\n",
       "      <td>-1.00</td>\n",
       "      <td>0.000000e+00</td>\n",
       "    </tr>\n",
       "    <tr>\n",
       "      <th>631648</th>\n",
       "      <td>60.907742</td>\n",
       "      <td>27.283697</td>\n",
       "      <td>31</td>\n",
       "      <td>-4.250000</td>\n",
       "      <td>-5.149994</td>\n",
       "      <td>-5.449982</td>\n",
       "      <td>-0.97</td>\n",
       "      <td>0.000000e+00</td>\n",
       "    </tr>\n",
       "    <tr>\n",
       "      <th>2173797</th>\n",
       "      <td>61.044735</td>\n",
       "      <td>26.736919</td>\n",
       "      <td>52</td>\n",
       "      <td>11.550018</td>\n",
       "      <td>10.450012</td>\n",
       "      <td>10.550018</td>\n",
       "      <td>0.87</td>\n",
       "      <td>7.548000e+04</td>\n",
       "    </tr>\n",
       "    <tr>\n",
       "      <th>1478076</th>\n",
       "      <td>63.891666</td>\n",
       "      <td>23.854307</td>\n",
       "      <td>40</td>\n",
       "      <td>-6.449982</td>\n",
       "      <td>-8.350006</td>\n",
       "      <td>-6.549988</td>\n",
       "      <td>0.87</td>\n",
       "      <td>2.880000e+02</td>\n",
       "    </tr>\n",
       "  </tbody>\n",
       "</table>\n",
       "<p>643246 rows × 8 columns</p>\n",
       "</div>"
      ],
      "text/plain": [
       "               lat        lon  forecast_period         T2         D2  \\\n",
       "2347985  61.044735  26.736919               25   1.450012   0.750000   \n",
       "27118    62.397831  30.027159               27  -4.049988  -6.750000   \n",
       "3151168  60.907848  27.285547               57  -6.250000  -8.250000   \n",
       "1904684  61.280910  23.750443               50  -1.049988  -2.149994   \n",
       "1595309  63.891666  23.854307               64   7.450012   4.649994   \n",
       "...            ...        ...              ...        ...        ...   \n",
       "1487213  63.891666  23.854307               12   1.850006 -12.250000   \n",
       "1751894  61.280910  23.750443                6   6.750000   6.649994   \n",
       "631648   60.907742  27.283697               31  -4.250000  -5.149994   \n",
       "2173797  61.044735  26.736919               52  11.550018  10.450012   \n",
       "1478076  63.891666  23.854307               40  -6.449982  -8.350006   \n",
       "\n",
       "               SKT  sinhour    hourly_SRR  \n",
       "2347985   1.149994    -0.26  2.165970e+04  \n",
       "27118    -4.250000    -0.71  0.000000e+00  \n",
       "3151168  -6.149994     0.71  1.275286e+05  \n",
       "1904684  -1.149994    -0.50  0.000000e+00  \n",
       "1595309   7.649994     0.87  4.043160e+05  \n",
       "...            ...      ...           ...  \n",
       "1487213   2.750000     0.00  2.031029e+06  \n",
       "1751894   6.750000    -1.00  0.000000e+00  \n",
       "631648   -5.449982    -0.97  0.000000e+00  \n",
       "2173797  10.550018     0.87  7.548000e+04  \n",
       "1478076  -6.549988     0.87  2.880000e+02  \n",
       "\n",
       "[643246 rows x 8 columns]"
      ]
     },
     "execution_count": 39,
     "metadata": {},
     "output_type": "execute_result"
    }
   ],
   "source": [
    "X_test"
   ]
  },
  {
   "cell_type": "code",
   "execution_count": 40,
   "id": "d6f4a349",
   "metadata": {},
   "outputs": [
    {
     "name": "stdout",
     "output_type": "stream",
     "text": [
      "XGB train error: 3.0016117\n",
      "XGB test error: 3.1884859\n"
     ]
    }
   ],
   "source": [
    "# not normalized data\n",
    "regressor.fit(X_train, y_train)\n",
    "\n",
    "y_trP = regressor.predict(X_train)\n",
    "y_tsP = regressor.predict(X_test)\n",
    "\n",
    "print('XGB train error:', mean_squared_error(y_train,y_trP,squared=False))\n",
    "print('XGB test error:', mean_squared_error(y_test,y_tsP,squared=False))\n"
   ]
  },
  {
   "cell_type": "code",
   "execution_count": null,
   "id": "a596d27a",
   "metadata": {},
   "outputs": [],
   "source": [
    "# to plot the RMSE vs lead time for normalized data\n",
    "\n",
    "ajat = sorted(df_test['forecast_period'].unique().tolist())\n",
    "print(ajat)\n",
    "\n",
    "xgb_error = [None] * len(ajat)\n",
    "for i in range(0,len(ajat)):\n",
    "    tmp = df_test[df_test['forecast_period'] == ajat[i]]\n",
    "    \n",
    "    df_x_test_ajat = tmp.drop('TRail', axis =1)\n",
    "    x_test_ajat = scaler.transform(df_x_test_ajat)\n",
    "    y_test_ajat = tmp['TRail']\n",
    "    y_xgb_ajat = regressor.predict(x_test_ajat)\n",
    "    xgb_error[i] = mean_squared_error(y_test_ajat,y_xgb_ajat,squared=False)\n"
   ]
  },
  {
   "cell_type": "code",
   "execution_count": 24,
   "id": "429e4881",
   "metadata": {},
   "outputs": [
    {
     "data": {
      "text/plain": [
       "<matplotlib.legend.Legend at 0x7f61e2ec7820>"
      ]
     },
     "execution_count": 24,
     "metadata": {},
     "output_type": "execute_result"
    },
    {
     "data": {
      "image/png": "[encoded data removed]",
      "text/plain": [
       "<Figure size 640x480 with 1 Axes>"
      ]
     },
     "metadata": {},
     "output_type": "display_data"
    }
   ],
   "source": [
    "plt.plot(ajat, xgb_error, 'b', label=\"XGB\")\n",
    "plt.title(\"XGB RMSE\")\n",
    "plt.xlabel(\"forecast_period\")\n",
    "plt.ylabel(\"RMSE\")\n",
    "plt.legend(loc=\"lower right\")"
   ]
  },
  {
   "cell_type": "code",
   "execution_count": 47,
   "id": "0d653bd7",
   "metadata": {},
   "outputs": [
    {
     "data": {
      "text/plain": [
       "<Figure size 640x480 with 0 Axes>"
      ]
     },
     "metadata": {},
     "output_type": "display_data"
    }
   ],
   "source": [
    "# plot for normalized data\n",
    "param = 'TRail'\n",
    "plt.savefig('XGB_forecast_period_' + param + '_rmse.png')"
   ]
  },
  {
   "cell_type": "code",
   "execution_count": 20,
   "id": "eb345679",
   "metadata": {},
   "outputs": [
    {
     "name": "stdout",
     "output_type": "stream",
     "text": [
      "[1, 2, 3, 4, 5, 6, 7, 8, 9, 10, 11, 12, 13, 14, 15, 16, 17, 18, 19, 20, 21, 22, 23, 24, 25, 26, 27, 28, 29, 30, 31, 32, 33, 34, 35, 36, 37, 38, 39, 40, 41, 42, 43, 44, 45, 46, 47, 48, 49, 50, 51, 52, 53, 54, 55, 56, 57, 58, 59, 60, 61, 62, 63, 64, 65, 66, 67, 68, 69, 70, 71, 72, 73, 74, 75, 76, 77, 78, 79, 80, 81, 82, 83, 84, 85, 86, 87, 88, 89, 90, 93, 96, 99, 102, 105, 108, 111, 114, 117, 120, 123, 126, 129, 132, 135, 138, 141, 144, 150, 156, 162, 168, 174, 180, 186, 192, 198, 204, 210, 216, 222, 228, 234, 240]\n"
     ]
    }
   ],
   "source": [
    "# to plot the RMSE vs lead time not normalized data\n",
    "\n",
    "ajat = sorted(df_test['forecast_period'].unique().tolist())\n",
    "print(ajat)\n",
    "\n",
    "xgb_error = [None] * len(ajat)\n",
    "for i in range(0,len(ajat)):\n",
    "    tmp = df_test[df_test['forecast_period'] == ajat[i]]\n",
    "    \n",
    "    df_x_test_ajat = tmp.drop('TRail', axis =1)\n",
    "    y_test_ajat = tmp['TRail']\n",
    "    x_test_ajat = df_x_test_ajat\n",
    "    y_xgb_ajat = regressor.predict(x_test_ajat)\n",
    "    xgb_error[i] = mean_squared_error(y_test_ajat,y_xgb_ajat,squared=False)\n"
   ]
  },
  {
   "cell_type": "code",
   "execution_count": 21,
   "id": "27323b59",
   "metadata": {},
   "outputs": [
    {
     "data": {
      "text/plain": [
       "<matplotlib.legend.Legend at 0x7fb8ec7b7df0>"
      ]
     },
     "execution_count": 21,
     "metadata": {},
     "output_type": "execute_result"
    },
    {
     "data": {
      "image/png": "[encoded data removed]",
      "text/plain": [
       "<Figure size 640x480 with 1 Axes>"
      ]
     },
     "metadata": {},
     "output_type": "display_data"
    }
   ],
   "source": [
    "plt.plot(ajat, xgb_error, 'b', label=\"XGB\")\n",
    "plt.title(\"XGB RMSE\")\n",
    "plt.xlabel(\"forecast_period\")\n",
    "plt.ylabel(\"RMSE\")\n",
    "plt.legend(loc=\"lower right\")"
   ]
  },
  {
   "cell_type": "code",
   "execution_count": 22,
   "id": "e99a6903",
   "metadata": {},
   "outputs": [
    {
     "data": {
      "text/plain": [
       "<Figure size 640x480 with 0 Axes>"
      ]
     },
     "metadata": {},
     "output_type": "display_data"
    }
   ],
   "source": [
    "# plot for not normalized data\n",
    "param = 'TRail'\n",
    "plt.savefig('XGB_forecast_period_' + param + 'not_normalizeddata_'+'_rmse.png')"
   ]
  },
  {
   "cell_type": "code",
   "execution_count": 48,
   "id": "296f11cc",
   "metadata": {},
   "outputs": [
    {
     "name": "stderr",
     "output_type": "stream",
     "text": [
      "Permutation explainer: 643247it [11:20:14, 15.76it/s]                                                                \n"
     ]
    }
   ],
   "source": [
    "#Shap values for normalized data\n",
    "import shap\n",
    "explainer = shap.Explainer(regressor.predict, X_test)\n",
    "# Calculates the SHAP values - It takes some time\n",
    "shap_values = explainer(X_test)"
   ]
  },
  {
   "cell_type": "code",
   "execution_count": 49,
   "id": "65f60bb3",
   "metadata": {},
   "outputs": [
    {
     "data": {
      "image/png": "[encoded data removed]",
      "text/plain": [
       "<Figure size 800x670 with 1 Axes>"
      ]
     },
     "metadata": {},
     "output_type": "display_data"
    }
   ],
   "source": [
    "feature_names=X.columns.tolist()\n",
    "feature_names\n",
    "\n",
    "shap.summary_plot(shap_values, X_test,  feature_names=X.columns.tolist(),plot_type=\"bar\", show = True)\n"
   ]
  },
  {
   "cell_type": "code",
   "execution_count": 23,
   "id": "b461c4b9",
   "metadata": {},
   "outputs": [
    {
     "name": "stdout",
     "output_type": "stream",
     "text": [
      "4186\n"
     ]
    },
    {
     "name": "stderr",
     "output_type": "stream",
     "text": [
      "ntree_limit is deprecated, use `iteration_range` or model slicing instead.\n"
     ]
    },
    {
     "data": {
      "image/png": "[encoded data removed]",
      "text/plain": [
       "<Figure size 800x670 with 1 Axes>"
      ]
     },
     "metadata": {},
     "output_type": "display_data"
    }
   ],
   "source": [
    "#Shap values for nnot ormalized data\n",
    "import shap\n",
    "# take random set from test data\n",
    "X_sub = X_test.sample(frac=0.0005)\n",
    "print(X_sub.size)\n",
    "shap_values = shap.Explainer(regressor).shap_values(X_sub)\n",
    "shap.summary_plot(shap_values, X_sub, plot_type=\"bar\", show = False)\n",
    "plt.savefig('bar_' + param + '.png')\n"
   ]
  },
  {
   "cell_type": "code",
   "execution_count": 24,
   "id": "17f4c30c",
   "metadata": {},
   "outputs": [
    {
     "name": "stdout",
     "output_type": "stream",
     "text": [
      "41808\n"
     ]
    },
    {
     "data": {
      "image/png": "[encoded data removed]",
      "text/plain": [
       "<Figure size 800x670 with 1 Axes>"
      ]
     },
     "metadata": {},
     "output_type": "display_data"
    }
   ],
   "source": [
    "#Shap values for nnot ormalized data\n",
    "import shap\n",
    "# take random set from test data\n",
    "X_sub = X_test.sample(frac=0.005)\n",
    "print(X_sub.size)\n",
    "shap_values = shap.Explainer(regressor).shap_values(X_sub)\n",
    "shap.summary_plot(shap_values, X_sub, plot_type=\"bar\", show = False)\n",
    "plt.savefig('bar_' + param + '.png')\n"
   ]
  },
  {
   "cell_type": "code",
   "execution_count": 25,
   "id": "7a1a43e5",
   "metadata": {},
   "outputs": [
    {
     "name": "stdout",
     "output_type": "stream",
     "text": [
      "418106\n"
     ]
    },
    {
     "data": {
      "image/png": "[encoded data removed]",
      "text/plain": [
       "<Figure size 800x670 with 1 Axes>"
      ]
     },
     "metadata": {},
     "output_type": "display_data"
    }
   ],
   "source": [
    "#Shap values for nnot ormalized data\n",
    "import shap\n",
    "# take random set from test data\n",
    "X_sub = X_test.sample(frac=0.05)\n",
    "print(X_sub.size)\n",
    "shap_values = shap.Explainer(regressor).shap_values(X_sub)\n",
    "shap.summary_plot(shap_values, X_sub, plot_type=\"bar\", show = False)\n",
    "#plt.savefig('bar_' + param + '.png')\n"
   ]
  },
  {
   "cell_type": "code",
   "execution_count": null,
   "id": "9ab3f040",
   "metadata": {},
   "outputs": [],
   "source": [
    "# another plot\n",
    "shap.summary_plot(shap_values, X_sub, show = False)\n",
    "#plt.savefig('sum_' + param + '.png')\n"
   ]
  },
  {
   "cell_type": "code",
   "execution_count": 35,
   "id": "66097aee",
   "metadata": {},
   "outputs": [],
   "source": [
    "# model with less parameters\n",
    "# xvar = ['lat', 'lon','forecast_period', 'T2', 'D2', 'SKT', 'sinhour', 'hourly_SRR','hourly_STR']\n",
    "# XGB train error: 2.8718803\n",
    "# XGB test error: 3.0694597\n",
    "#xvar = ['lat', 'lon','forecast_period', 'T2', 'D2', 'SKT', 'sinhour', 'hourly_SRR','hourly_STR', 'hourly_SLHF', 'hourly_SSHF']\n",
    "#XGB train error: 2.7916074\n",
    "#XGB test error: 2.9847915\n",
    "xvar = ['lat', 'lon','forecast_period', 'T2', 'D2', 'SKT', 'sinhour', 'hourly_SRR']\n"
   ]
  },
  {
   "cell_type": "code",
   "execution_count": 36,
   "id": "f6525db1",
   "metadata": {},
   "outputs": [
    {
     "name": "stdout",
     "output_type": "stream",
     "text": [
      "(2572981, 8) (643246, 8) (2572981,) (643246,)\n"
     ]
    }
   ],
   "source": [
    "X = df.loc[:, xvar]\n",
    "y = df.loc[:,'TRail']\n",
    "from sklearn.model_selection import train_test_split\n",
    "X_train, X_test, y_train, y_test = train_test_split(X, y, test_size=0.2)\n",
    "print(X_train.shape, X_test.shape, y_train.shape, y_test.shape)\n",
    "\n",
    "# This dataframe we use to plot the graph of RMSE vs forecast_period\n",
    "df_test = pd.concat([X_test, y_test], axis = 1)"
   ]
  },
  {
   "cell_type": "code",
   "execution_count": 37,
   "id": "7a156141",
   "metadata": {},
   "outputs": [
    {
     "name": "stdout",
     "output_type": "stream",
     "text": [
      "XGB train error: 3.0016117\n",
      "XGB test error: 3.1884859\n"
     ]
    }
   ],
   "source": [
    "# only xgb\n",
    "regressor = xgb.XGBRegressor(n_estimators=100, max_depth=11, eta=0.3, subsample=0.7, colsample_bytree=0.8)\n",
    "# not normalized data\n",
    "regressor.fit(X_train, y_train)\n",
    "\n",
    "y_trP = regressor.predict(X_train)\n",
    "y_tsP = regressor.predict(X_test)\n",
    "\n",
    "print('XGB train error:', mean_squared_error(y_train,y_trP,squared=False))\n",
    "print('XGB test error:', mean_squared_error(y_test,y_tsP,squared=False))\n"
   ]
  },
  {
   "cell_type": "code",
   "execution_count": 33,
   "id": "784b15b8",
   "metadata": {},
   "outputs": [
    {
     "name": "stdout",
     "output_type": "stream",
     "text": [
      "[1, 2, 3, 4, 5, 6, 7, 8, 9, 10, 11, 12, 13, 14, 15, 16, 17, 18, 19, 20, 21, 22, 23, 24, 25, 26, 27, 28, 29, 30, 31, 32, 33, 34, 35, 36, 37, 38, 39, 40, 41, 42, 43, 44, 45, 46, 47, 48, 49, 50, 51, 52, 53, 54, 55, 56, 57, 58, 59, 60, 61, 62, 63, 64, 65, 66, 67, 68, 69, 70, 71, 72, 73, 74, 75, 76, 77, 78, 79, 80, 81, 82, 83, 84, 85, 86, 87, 88, 89, 90, 93, 96, 99, 102, 105, 108, 111, 114, 117, 120, 123, 126, 129, 132, 135, 138, 141, 144, 150, 156, 162, 168, 174, 180, 186, 192, 198, 204, 210, 216, 222, 228, 234, 240]\n"
     ]
    },
    {
     "data": {
      "text/plain": [
       "<matplotlib.legend.Legend at 0x7fb8ece75940>"
      ]
     },
     "execution_count": 33,
     "metadata": {},
     "output_type": "execute_result"
    },
    {
     "data": {
      "image/png": "[encoded data removed]",
      "text/plain": [
       "<Figure size 640x480 with 1 Axes>"
      ]
     },
     "metadata": {},
     "output_type": "display_data"
    }
   ],
   "source": [
    "# to plot the RMSE vs lead time not normalized data\n",
    "\n",
    "ajat = sorted(df_test['forecast_period'].unique().tolist())\n",
    "print(ajat)\n",
    "\n",
    "xgb_error = [None] * len(ajat)\n",
    "for i in range(0,len(ajat)):\n",
    "    tmp = df_test[df_test['forecast_period'] == ajat[i]]\n",
    "    \n",
    "    df_x_test_ajat = tmp.drop('TRail', axis =1)\n",
    "    y_test_ajat = tmp['TRail']\n",
    "    x_test_ajat = df_x_test_ajat\n",
    "    y_xgb_ajat = regressor.predict(x_test_ajat)\n",
    "    xgb_error[i] = mean_squared_error(y_test_ajat,y_xgb_ajat,squared=False)\n",
    "\n",
    "plt.plot(ajat, xgb_error, 'b', label=\"XGB\")\n",
    "plt.title(\"XGB RMSE\")\n",
    "plt.xlabel(\"forecast_period\")\n",
    "plt.ylabel(\"RMSE\")\n",
    "plt.legend(loc=\"lower right\")"
   ]
  },
  {
   "cell_type": "code",
   "execution_count": null,
   "id": "3fa6435d",
   "metadata": {},
   "outputs": [],
   "source": [
    "#Shap values for nnot ormalized data\n",
    "import shap\n",
    "# take random set from test data\n",
    "X_sub = X_test.sample(frac=0.05)\n",
    "print(X_sub.size)\n",
    "shap_values = shap.Explainer(regressor).shap_values(X_sub)\n",
    "shap.summary_plot(shap_values, X_sub, plot_type=\"bar\", show = False)\n",
    "#plt.savefig('bar_' + param + '.png')\n"
   ]
  },
  {
   "cell_type": "code",
   "execution_count": null,
   "id": "de67e6a7",
   "metadata": {},
   "outputs": [],
   "source": []
  },
  {
   "cell_type": "code",
   "execution_count": null,
   "id": "e4e2498b",
   "metadata": {},
   "outputs": [],
   "source": []
  },
  {
   "cell_type": "code",
   "execution_count": null,
   "id": "e2ba9a36",
   "metadata": {},
   "outputs": [],
   "source": [
    "# RF and XGB refressor"
   ]
  },
  {
   "cell_type": "code",
   "execution_count": 25,
   "id": "f0fbdf6b",
   "metadata": {},
   "outputs": [],
   "source": [
    "RFregressor = RandomForestRegressor(n_estimators=100, max_features='sqrt',random_state=42, max_depth=10, min_samples_split=2, bootstrap=True, min_samples_leaf=1)\n"
   ]
  },
  {
   "cell_type": "code",
   "execution_count": 26,
   "id": "447b446d",
   "metadata": {},
   "outputs": [
    {
     "name": "stdout",
     "output_type": "stream",
     "text": [
      "XGB train error: 2.6175382\n",
      "XGB test error: 2.8395302\n",
      "RF train error: 3.7846965963369805\n",
      "RF test error: 3.799751484203457\n"
     ]
    }
   ],
   "source": [
    "RFregressor.fit(X_train,y_train)\n",
    "regressor.fit(X_train, y_train)\n",
    "\n",
    "y_trRFP = RFregressor.predict(X_train)\n",
    "y_tsRFP = RFregressor.predict(X_test)\n",
    "y_trP = regressor.predict(X_train)\n",
    "y_tsP = regressor.predict(X_test)\n",
    "\n",
    "\n",
    "print('XGB train error:', mean_squared_error(y_train,y_trP,squared=False))\n",
    "print('XGB test error:', mean_squared_error(y_test,y_tsP,squared=False))\n",
    "print('RF train error:', mean_squared_error(y_train,y_trRFP,squared=False))\n",
    "print('RF test error:', mean_squared_error(y_test,y_tsRFP,squared=False))\n"
   ]
  },
  {
   "cell_type": "code",
   "execution_count": 27,
   "id": "d7dfe9d7",
   "metadata": {},
   "outputs": [],
   "source": [
    "LR = LinearRegression()\n",
    "DT = DecisionTreeRegressor()"
   ]
  },
  {
   "cell_type": "code",
   "execution_count": 28,
   "id": "27ca36ab",
   "metadata": {},
   "outputs": [
    {
     "name": "stdout",
     "output_type": "stream",
     "text": [
      "LR train error: 4.5042947384911844\n",
      "LR test error: 4.5081821275799365\n",
      "DT train error: 0.568562609155027\n",
      "DT test error: 2.8768977221272505\n"
     ]
    }
   ],
   "source": [
    "LR.fit(X_train,y_train)\n",
    "DT.fit(X_train, y_train)\n",
    "\n",
    "y_trLR = LR.predict(X_train)\n",
    "y_tsLR = LR.predict(X_test)\n",
    "y_trDT = DT.predict(X_train)\n",
    "y_tsDT = DT.predict(X_test)\n",
    "\n",
    "\n",
    "print('LR train error:', mean_squared_error(y_train,y_trLR,squared=False))\n",
    "print('LR test error:', mean_squared_error(y_test,y_tsLR,squared=False))\n",
    "print('DT train error:', mean_squared_error(y_train,y_trDT,squared=False))\n",
    "print('DT test error:', mean_squared_error(y_test,y_tsDT,squared=False))"
   ]
  },
  {
   "cell_type": "code",
   "execution_count": 30,
   "id": "4f13afda",
   "metadata": {},
   "outputs": [
    {
     "name": "stdout",
     "output_type": "stream",
     "text": [
      "[LinearRegression(), DecisionTreeRegressor(), RandomForestRegressor(max_depth=10, max_features='sqrt', random_state=42), XGBRegressor(base_score=0.5, booster='gbtree', callbacks=None,\n",
      "             colsample_bylevel=1, colsample_bynode=1, colsample_bytree=0.8,\n",
      "             early_stopping_rounds=None, enable_categorical=False, eta=0.3,\n",
      "             eval_metric=None, feature_types=None, gamma=0, gpu_id=-1,\n",
      "             grow_policy='depthwise', importance_type=None,\n",
      "             interaction_constraints='', learning_rate=0.300000012, max_bin=256,\n",
      "             max_cat_threshold=64, max_cat_to_onehot=4, max_delta_step=0,\n",
      "             max_depth=11, max_leaves=0, min_child_weight=1, missing=nan,\n",
      "             monotone_constraints='()', n_estimators=100, n_jobs=0,\n",
      "             num_parallel_tree=1, predictor='auto', ...)]\n"
     ]
    }
   ],
   "source": [
    "#initialize\n",
    "model_list = [LR, DT, RFregressor,regressor]\n",
    "\n",
    "print(model_list)"
   ]
  },
  {
   "cell_type": "code",
   "execution_count": 31,
   "id": "10bacb9e",
   "metadata": {},
   "outputs": [
    {
     "name": "stderr",
     "output_type": "stream",
     "text": [
      "100%|████████████████████████████████████████████| 4/4 [08:42<00:00, 130.52s/it]\n"
     ]
    }
   ],
   "source": [
    "#Import a progress bar so we know how long it is taking\n",
    "import tqdm \n",
    "\n",
    "for model in tqdm.tqdm(model_list):\n",
    "    model.fit(X_train,y_train)"
   ]
  },
  {
   "cell_type": "code",
   "execution_count": 32,
   "id": "24c1a169",
   "metadata": {},
   "outputs": [
    {
     "name": "stdout",
     "output_type": "stream",
     "text": [
      " Model: LR MAE:3.45 , RMSE:4.51 , Bias:-0.0 , Rsquared:0.85\n",
      " Model: DT MAE:1.61 , RMSE:2.88 , Bias:-0.0 , Rsquared:0.94\n",
      " Model: RF MAE:2.79 , RMSE:3.8 , Bias:0.0 , Rsquared:0.89\n",
      " Model: GBT MAE:2.0299999713897705 , RMSE:2.8399999141693115 , Bias:-0.0 , Rsquared:0.94\n"
     ]
    }
   ],
   "source": [
    "from gewitter_functions import get_mae,get_rmse,get_bias,get_r2\n",
    "\n",
    "legend_labels = ['LR','DT','RF','GBT']\n",
    "#loop over all trained models \n",
    "for idx,model in enumerate(model_list):\n",
    "    #get predictions \n",
    "    yhat = model.predict(X_test)\n",
    " \n",
    "    # get metrics\n",
    "    mae = get_mae(y_test,yhat)\n",
    "    rmse = get_rmse(y_test,yhat)\n",
    "    bias = get_bias(y_test,yhat)\n",
    "    r2 = get_r2(y_test,yhat)\n",
    "    #print them out so we can see them \n",
    "    print(' Model: {} MAE:{} , RMSE:{} , Bias:{} , Rsquared:{}'.format(legend_labels[idx], np.round(mae,2),np.round(rmse,2),np.round(bias,2),np.round(r2,2)))\n"
   ]
  },
  {
   "cell_type": "code",
   "execution_count": null,
   "id": "bfdd6783",
   "metadata": {},
   "outputs": [],
   "source": []
  },
  {
   "cell_type": "code",
   "execution_count": null,
   "id": "e7b2f881",
   "metadata": {},
   "outputs": [],
   "source": []
  }
 ],
 "metadata": {
  "kernelspec": {
   "display_name": "Python 3 (ipykernel)",
   "language": "python",
   "name": "python3"
  },
  "language_info": {
   "codemirror_mode": {
    "name": "ipython",
    "version": 3
   },
   "file_extension": ".py",
   "mimetype": "text/x-python",
   "name": "python",
   "nbconvert_exporter": "python",
   "pygments_lexer": "ipython3",
   "version": "3.8.10"
  }
 },
 "nbformat": 4,
 "nbformat_minor": 5
}
