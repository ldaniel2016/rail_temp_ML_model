{
 "cells": [
  {
   "cell_type": "markdown",
   "id": "3faad244",
   "metadata": {},
   "source": [
    "## This program develops the ML model for predictiong the rail temperature"
   ]
  },
  {
   "cell_type": "code",
   "execution_count": 1,
   "id": "f431e608",
   "metadata": {},
   "outputs": [],
   "source": [
    "import pandas as pd\n",
    "import numpy as np \n",
    "import matplotlib.pyplot as plt\n",
    "import time"
   ]
  },
  {
   "cell_type": "code",
   "execution_count": 2,
   "id": "1df0afba",
   "metadata": {},
   "outputs": [],
   "source": [
    "from sklearn import linear_model\n",
    "from sklearn.model_selection import train_test_split\n",
    "from sklearn.preprocessing import StandardScaler\n"
   ]
  },
  {
   "cell_type": "code",
   "execution_count": 3,
   "id": "55f82a05",
   "metadata": {},
   "outputs": [],
   "source": [
    "from sklearn.ensemble import RandomForestRegressor\n",
    "from sklearn.tree import DecisionTreeRegressor\n",
    "from sklearn.metrics import mean_squared_error\n",
    "from sklearn.inspection import permutation_importance\n",
    "from sklearn import metrics\n",
    "from sklearn.model_selection import cross_val_score\n",
    "from sklearn.linear_model import LinearRegression\n",
    "from sklearn import preprocessing\n",
    "from sklearn.preprocessing import PolynomialFeatures\n",
    "from sklearn.model_selection import RandomizedSearchCV\n",
    "from sklearn.ensemble import GradientBoostingRegressor\n"
   ]
  },
  {
   "cell_type": "code",
   "execution_count": 4,
   "id": "b34a16aa",
   "metadata": {},
   "outputs": [],
   "source": [
    "import xgboost as xgb\n",
    "from xgboost import XGBRegressor\n"
   ]
  },
  {
   "cell_type": "code",
   "execution_count": 5,
   "id": "c522c000",
   "metadata": {},
   "outputs": [],
   "source": [
    "import time\n",
    "import sys\n",
    "import matplotlib.pyplot as plt\n",
    "import seaborn as sns\n",
    "import math\n"
   ]
  },
  {
   "cell_type": "code",
   "execution_count": 6,
   "id": "293ce382",
   "metadata": {},
   "outputs": [
    {
     "data": {
      "text/plain": [
       "(3216227, 27)"
      ]
     },
     "execution_count": 6,
     "metadata": {},
     "output_type": "execute_result"
    }
   ],
   "source": [
    "df =  pd.read_csv(r'/home/daniel/projects/rails/data/rail_temperatures_mos_data.csv', sep = ',')\n",
    "df.shape"
   ]
  },
  {
   "cell_type": "code",
   "execution_count": 7,
   "id": "d8eff89a",
   "metadata": {},
   "outputs": [
    {
     "data": {
      "text/plain": [
       "lat                0\n",
       "lon                0\n",
       "analysis_date      0\n",
       "analysis_time      0\n",
       "forecast_time      0\n",
       "forecast_period    0\n",
       "MSL                0\n",
       "T2                 0\n",
       "D2                 0\n",
       "U10                0\n",
       "V10                0\n",
       "LCC                0\n",
       "MCC                0\n",
       "SKT                0\n",
       "cosmonth           0\n",
       "sinmonth           0\n",
       "coshour            0\n",
       "sinhour            0\n",
       "hourly_SRR         0\n",
       "hourly_STR         0\n",
       "hourly_SLHF        0\n",
       "hourly_SSHF        0\n",
       "X                  0\n",
       "Y                  0\n",
       "Timestamp          0\n",
       "TAir               0\n",
       "TRail              0\n",
       "dtype: int64"
      ]
     },
     "execution_count": 7,
     "metadata": {},
     "output_type": "execute_result"
    }
   ],
   "source": [
    "df.isnull().sum()"
   ]
  },
  {
   "cell_type": "code",
   "execution_count": 7,
   "id": "c7683214",
   "metadata": {},
   "outputs": [
    {
     "data": {
      "text/plain": [
       "lat                float64\n",
       "lon                float64\n",
       "analysis_date       object\n",
       "analysis_time        int64\n",
       "forecast_time       object\n",
       "forecast_period      int64\n",
       "MSL                float64\n",
       "T2                 float64\n",
       "D2                 float64\n",
       "U10                float64\n",
       "V10                float64\n",
       "LCC                float64\n",
       "MCC                float64\n",
       "SKT                float64\n",
       "cosmonth           float64\n",
       "sinmonth           float64\n",
       "coshour            float64\n",
       "sinhour            float64\n",
       "hourly_SRR         float64\n",
       "hourly_STR         float64\n",
       "hourly_SLHF        float64\n",
       "hourly_SSHF        float64\n",
       "X                    int64\n",
       "Y                    int64\n",
       "Timestamp           object\n",
       "TAir               float64\n",
       "TRail              float64\n",
       "dtype: object"
      ]
     },
     "execution_count": 7,
     "metadata": {},
     "output_type": "execute_result"
    }
   ],
   "source": [
    "df.dtypes"
   ]
  },
  {
   "cell_type": "code",
   "execution_count": 8,
   "id": "3dd3360d",
   "metadata": {},
   "outputs": [
    {
     "data": {
      "text/plain": [
       "(-29.0, 50.0)"
      ]
     },
     "execution_count": 8,
     "metadata": {},
     "output_type": "execute_result"
    }
   ],
   "source": [
    "(min(df.TRail), max(df.TRail))"
   ]
  },
  {
   "cell_type": "code",
   "execution_count": 9,
   "id": "b66bd726",
   "metadata": {},
   "outputs": [
    {
     "data": {
      "text/plain": [
       "lat                float32\n",
       "lon                float32\n",
       "analysis_date       object\n",
       "analysis_time        int64\n",
       "forecast_time       object\n",
       "forecast_period      int64\n",
       "MSL                float32\n",
       "T2                 float32\n",
       "D2                 float32\n",
       "U10                float32\n",
       "V10                float32\n",
       "LCC                float32\n",
       "MCC                float32\n",
       "SKT                float32\n",
       "cosmonth           float32\n",
       "sinmonth           float32\n",
       "coshour            float32\n",
       "sinhour            float32\n",
       "hourly_SRR         float32\n",
       "hourly_STR         float32\n",
       "hourly_SLHF        float32\n",
       "hourly_SSHF        float32\n",
       "X                    int64\n",
       "Y                    int64\n",
       "Timestamp           object\n",
       "TAir               float32\n",
       "TRail              float32\n",
       "dtype: object"
      ]
     },
     "execution_count": 9,
     "metadata": {},
     "output_type": "execute_result"
    }
   ],
   "source": [
    "cols = df.select_dtypes(include=[np.float64]).columns\n",
    "cols\n",
    "df[cols] = df[cols].astype(np.float32)\n",
    "df.dtypes"
   ]
  },
  {
   "cell_type": "code",
   "execution_count": 10,
   "id": "65044cf3",
   "metadata": {},
   "outputs": [
    {
     "data": {
      "text/plain": [
       "lat                float32\n",
       "lon                float32\n",
       "analysis_date       object\n",
       "analysis_time        int32\n",
       "forecast_time       object\n",
       "forecast_period      int32\n",
       "MSL                float32\n",
       "T2                 float32\n",
       "D2                 float32\n",
       "U10                float32\n",
       "V10                float32\n",
       "LCC                float32\n",
       "MCC                float32\n",
       "SKT                float32\n",
       "cosmonth           float32\n",
       "sinmonth           float32\n",
       "coshour            float32\n",
       "sinhour            float32\n",
       "hourly_SRR         float32\n",
       "hourly_STR         float32\n",
       "hourly_SLHF        float32\n",
       "hourly_SSHF        float32\n",
       "X                    int32\n",
       "Y                    int32\n",
       "Timestamp           object\n",
       "TAir               float32\n",
       "TRail              float32\n",
       "dtype: object"
      ]
     },
     "execution_count": 10,
     "metadata": {},
     "output_type": "execute_result"
    }
   ],
   "source": [
    "cols = df.select_dtypes(include=[np.int64]).columns\n",
    "cols\n",
    "df[cols] = df[cols].astype(np.int32)\n",
    "df.dtypes"
   ]
  },
  {
   "cell_type": "code",
   "execution_count": 11,
   "id": "1f42ec23",
   "metadata": {},
   "outputs": [
    {
     "data": {
      "text/plain": [
       "Index(['lat', 'lon', 'analysis_date', 'analysis_time', 'forecast_time',\n",
       "       'forecast_period', 'MSL', 'T2', 'D2', 'U10', 'V10', 'LCC', 'MCC', 'SKT',\n",
       "       'cosmonth', 'sinmonth', 'coshour', 'sinhour', 'hourly_SRR',\n",
       "       'hourly_STR', 'hourly_SLHF', 'hourly_SSHF', 'X', 'Y', 'Timestamp',\n",
       "       'TAir', 'TRail'],\n",
       "      dtype='object')"
      ]
     },
     "execution_count": 11,
     "metadata": {},
     "output_type": "execute_result"
    }
   ],
   "source": [
    "df.columns"
   ]
  },
  {
   "cell_type": "code",
   "execution_count": 12,
   "id": "6401708a",
   "metadata": {},
   "outputs": [
    {
     "data": {
      "text/plain": [
       "0          14.0\n",
       "1          14.0\n",
       "2          14.0\n",
       "3          14.0\n",
       "4          14.0\n",
       "           ... \n",
       "3216222    -2.0\n",
       "3216223    -2.0\n",
       "3216224    -2.0\n",
       "3216225    -3.0\n",
       "3216226    -3.0\n",
       "Name: TRail, Length: 3216227, dtype: float32"
      ]
     },
     "execution_count": 12,
     "metadata": {},
     "output_type": "execute_result"
    }
   ],
   "source": [
    "# Rail temp in degree celsius\n",
    "df.TRail"
   ]
  },
  {
   "cell_type": "code",
   "execution_count": 13,
   "id": "4fa132cc",
   "metadata": {},
   "outputs": [],
   "source": [
    "# converting T2, D2 and SKT to degree celsius\n",
    "df.T2= df['T2'] - 273.15\n",
    "df.D2 = df['D2'] - 273.15\n",
    "df.SKT = df['SKT'] - 273.15"
   ]
  },
  {
   "cell_type": "code",
   "execution_count": 14,
   "id": "c8f7aa0c",
   "metadata": {},
   "outputs": [],
   "source": [
    "xvar = ['lat', 'lon','forecast_period', 'T2', 'D2', 'SKT','U10', 'V10', \n",
    "        'sinhour', 'hourly_SRR','hourly_STR', 'hourly_SLHF', \n",
    "        'hourly_SSHF']\n"
   ]
  },
  {
   "cell_type": "code",
   "execution_count": 15,
   "id": "19a10251",
   "metadata": {},
   "outputs": [],
   "source": [
    "X = df.loc[:, xvar]\n",
    "y = df.loc[:,'TRail']"
   ]
  },
  {
   "cell_type": "code",
   "execution_count": 16,
   "id": "a32199bc",
   "metadata": {},
   "outputs": [
    {
     "name": "stdout",
     "output_type": "stream",
     "text": [
      "(2572981, 13) (643246, 13) (2572981,) (643246,)\n"
     ]
    }
   ],
   "source": [
    "from sklearn.model_selection import train_test_split\n",
    "X_train, X_test, y_train, y_test = train_test_split(X, y, test_size=0.2)\n",
    "print(X_train.shape, X_test.shape, y_train.shape, y_test.shape)"
   ]
  },
  {
   "cell_type": "code",
   "execution_count": 19,
   "id": "c881cd7a",
   "metadata": {},
   "outputs": [
    {
     "data": {
      "text/html": [
       "<div>\n",
       "<style scoped>\n",
       "    .dataframe tbody tr th:only-of-type {\n",
       "        vertical-align: middle;\n",
       "    }\n",
       "\n",
       "    .dataframe tbody tr th {\n",
       "        vertical-align: top;\n",
       "    }\n",
       "\n",
       "    .dataframe thead th {\n",
       "        text-align: right;\n",
       "    }\n",
       "</style>\n",
       "<table border=\"1\" class=\"dataframe\">\n",
       "  <thead>\n",
       "    <tr style=\"text-align: right;\">\n",
       "      <th></th>\n",
       "      <th>lat</th>\n",
       "      <th>lon</th>\n",
       "      <th>forecast_period</th>\n",
       "      <th>T2</th>\n",
       "      <th>D2</th>\n",
       "      <th>SKT</th>\n",
       "      <th>U10</th>\n",
       "      <th>V10</th>\n",
       "      <th>sinhour</th>\n",
       "      <th>hourly_SRR</th>\n",
       "      <th>hourly_STR</th>\n",
       "      <th>hourly_SLHF</th>\n",
       "      <th>hourly_SSHF</th>\n",
       "      <th>TRail</th>\n",
       "    </tr>\n",
       "  </thead>\n",
       "  <tbody>\n",
       "    <tr>\n",
       "      <th>2831505</th>\n",
       "      <td>64.879318</td>\n",
       "      <td>25.503368</td>\n",
       "      <td>240</td>\n",
       "      <td>1.950012</td>\n",
       "      <td>-1.949982</td>\n",
       "      <td>1.850006</td>\n",
       "      <td>5.8</td>\n",
       "      <td>3.1</td>\n",
       "      <td>0.00</td>\n",
       "      <td>2.576933e+05</td>\n",
       "      <td>-43820.667969</td>\n",
       "      <td>-96664.164062</td>\n",
       "      <td>-65654.414062</td>\n",
       "      <td>19.0</td>\n",
       "    </tr>\n",
       "    <tr>\n",
       "      <th>1020649</th>\n",
       "      <td>60.907742</td>\n",
       "      <td>27.283697</td>\n",
       "      <td>192</td>\n",
       "      <td>0.850006</td>\n",
       "      <td>-2.449982</td>\n",
       "      <td>1.149994</td>\n",
       "      <td>-3.2</td>\n",
       "      <td>-6.6</td>\n",
       "      <td>0.00</td>\n",
       "      <td>3.276387e+05</td>\n",
       "      <td>-47998.000000</td>\n",
       "      <td>-184214.500000</td>\n",
       "      <td>-103102.500000</td>\n",
       "      <td>13.0</td>\n",
       "    </tr>\n",
       "    <tr>\n",
       "      <th>2109232</th>\n",
       "      <td>61.044735</td>\n",
       "      <td>26.736919</td>\n",
       "      <td>56</td>\n",
       "      <td>8.450012</td>\n",
       "      <td>6.550018</td>\n",
       "      <td>8.149994</td>\n",
       "      <td>-3.3</td>\n",
       "      <td>1.5</td>\n",
       "      <td>-0.87</td>\n",
       "      <td>0.000000e+00</td>\n",
       "      <td>-126818.500000</td>\n",
       "      <td>-35324.699219</td>\n",
       "      <td>93416.203125</td>\n",
       "      <td>10.0</td>\n",
       "    </tr>\n",
       "    <tr>\n",
       "      <th>3014809</th>\n",
       "      <td>64.552910</td>\n",
       "      <td>27.160814</td>\n",
       "      <td>66</td>\n",
       "      <td>0.250000</td>\n",
       "      <td>-2.850006</td>\n",
       "      <td>-0.649994</td>\n",
       "      <td>6.5</td>\n",
       "      <td>0.1</td>\n",
       "      <td>1.00</td>\n",
       "      <td>0.000000e+00</td>\n",
       "      <td>-252907.000000</td>\n",
       "      <td>-73574.296875</td>\n",
       "      <td>341616.000000</td>\n",
       "      <td>-3.0</td>\n",
       "    </tr>\n",
       "    <tr>\n",
       "      <th>2423120</th>\n",
       "      <td>62.487370</td>\n",
       "      <td>27.195679</td>\n",
       "      <td>192</td>\n",
       "      <td>1.850006</td>\n",
       "      <td>-5.549988</td>\n",
       "      <td>1.950012</td>\n",
       "      <td>2.8</td>\n",
       "      <td>-0.9</td>\n",
       "      <td>0.00</td>\n",
       "      <td>8.522920e+05</td>\n",
       "      <td>-311593.000000</td>\n",
       "      <td>-85627.164062</td>\n",
       "      <td>-359346.656250</td>\n",
       "      <td>6.0</td>\n",
       "    </tr>\n",
       "    <tr>\n",
       "      <th>...</th>\n",
       "      <td>...</td>\n",
       "      <td>...</td>\n",
       "      <td>...</td>\n",
       "      <td>...</td>\n",
       "      <td>...</td>\n",
       "      <td>...</td>\n",
       "      <td>...</td>\n",
       "      <td>...</td>\n",
       "      <td>...</td>\n",
       "      <td>...</td>\n",
       "      <td>...</td>\n",
       "      <td>...</td>\n",
       "      <td>...</td>\n",
       "      <td>...</td>\n",
       "    </tr>\n",
       "    <tr>\n",
       "      <th>3044667</th>\n",
       "      <td>60.907848</td>\n",
       "      <td>27.285547</td>\n",
       "      <td>39</td>\n",
       "      <td>1.550018</td>\n",
       "      <td>0.450012</td>\n",
       "      <td>1.450012</td>\n",
       "      <td>1.7</td>\n",
       "      <td>5.7</td>\n",
       "      <td>-0.71</td>\n",
       "      <td>0.000000e+00</td>\n",
       "      <td>-109764.500000</td>\n",
       "      <td>-2174.399902</td>\n",
       "      <td>167160.000000</td>\n",
       "      <td>0.0</td>\n",
       "    </tr>\n",
       "    <tr>\n",
       "      <th>1190592</th>\n",
       "      <td>63.891666</td>\n",
       "      <td>23.854307</td>\n",
       "      <td>228</td>\n",
       "      <td>1.350006</td>\n",
       "      <td>-1.350006</td>\n",
       "      <td>1.450012</td>\n",
       "      <td>-1.7</td>\n",
       "      <td>0.1</td>\n",
       "      <td>0.00</td>\n",
       "      <td>1.644003e+05</td>\n",
       "      <td>-62785.332031</td>\n",
       "      <td>-37316.500000</td>\n",
       "      <td>-40323.714844</td>\n",
       "      <td>12.0</td>\n",
       "    </tr>\n",
       "    <tr>\n",
       "      <th>1044912</th>\n",
       "      <td>60.907742</td>\n",
       "      <td>27.283697</td>\n",
       "      <td>70</td>\n",
       "      <td>19.850006</td>\n",
       "      <td>6.649994</td>\n",
       "      <td>20.550018</td>\n",
       "      <td>-1.0</td>\n",
       "      <td>-0.5</td>\n",
       "      <td>0.50</td>\n",
       "      <td>1.774068e+06</td>\n",
       "      <td>-238232.000000</td>\n",
       "      <td>-559792.000000</td>\n",
       "      <td>-754267.000000</td>\n",
       "      <td>28.0</td>\n",
       "    </tr>\n",
       "    <tr>\n",
       "      <th>2622483</th>\n",
       "      <td>62.487370</td>\n",
       "      <td>27.195679</td>\n",
       "      <td>30</td>\n",
       "      <td>15.149994</td>\n",
       "      <td>12.350006</td>\n",
       "      <td>14.950012</td>\n",
       "      <td>1.9</td>\n",
       "      <td>0.9</td>\n",
       "      <td>-1.00</td>\n",
       "      <td>1.147140e+05</td>\n",
       "      <td>-94460.000000</td>\n",
       "      <td>-230722.000000</td>\n",
       "      <td>32003.000000</td>\n",
       "      <td>19.0</td>\n",
       "    </tr>\n",
       "    <tr>\n",
       "      <th>1413751</th>\n",
       "      <td>63.891666</td>\n",
       "      <td>23.854307</td>\n",
       "      <td>33</td>\n",
       "      <td>11.250000</td>\n",
       "      <td>7.250000</td>\n",
       "      <td>11.450012</td>\n",
       "      <td>1.4</td>\n",
       "      <td>0.0</td>\n",
       "      <td>0.71</td>\n",
       "      <td>3.432110e+05</td>\n",
       "      <td>-146975.000000</td>\n",
       "      <td>-96684.500000</td>\n",
       "      <td>-63005.398438</td>\n",
       "      <td>10.0</td>\n",
       "    </tr>\n",
       "  </tbody>\n",
       "</table>\n",
       "<p>643246 rows × 14 columns</p>\n",
       "</div>"
      ],
      "text/plain": [
       "               lat        lon  forecast_period         T2         D2  \\\n",
       "2831505  64.879318  25.503368              240   1.950012  -1.949982   \n",
       "1020649  60.907742  27.283697              192   0.850006  -2.449982   \n",
       "2109232  61.044735  26.736919               56   8.450012   6.550018   \n",
       "3014809  64.552910  27.160814               66   0.250000  -2.850006   \n",
       "2423120  62.487370  27.195679              192   1.850006  -5.549988   \n",
       "...            ...        ...              ...        ...        ...   \n",
       "3044667  60.907848  27.285547               39   1.550018   0.450012   \n",
       "1190592  63.891666  23.854307              228   1.350006  -1.350006   \n",
       "1044912  60.907742  27.283697               70  19.850006   6.649994   \n",
       "2622483  62.487370  27.195679               30  15.149994  12.350006   \n",
       "1413751  63.891666  23.854307               33  11.250000   7.250000   \n",
       "\n",
       "               SKT  U10  V10  sinhour    hourly_SRR     hourly_STR  \\\n",
       "2831505   1.850006  5.8  3.1     0.00  2.576933e+05  -43820.667969   \n",
       "1020649   1.149994 -3.2 -6.6     0.00  3.276387e+05  -47998.000000   \n",
       "2109232   8.149994 -3.3  1.5    -0.87  0.000000e+00 -126818.500000   \n",
       "3014809  -0.649994  6.5  0.1     1.00  0.000000e+00 -252907.000000   \n",
       "2423120   1.950012  2.8 -0.9     0.00  8.522920e+05 -311593.000000   \n",
       "...            ...  ...  ...      ...           ...            ...   \n",
       "3044667   1.450012  1.7  5.7    -0.71  0.000000e+00 -109764.500000   \n",
       "1190592   1.450012 -1.7  0.1     0.00  1.644003e+05  -62785.332031   \n",
       "1044912  20.550018 -1.0 -0.5     0.50  1.774068e+06 -238232.000000   \n",
       "2622483  14.950012  1.9  0.9    -1.00  1.147140e+05  -94460.000000   \n",
       "1413751  11.450012  1.4  0.0     0.71  3.432110e+05 -146975.000000   \n",
       "\n",
       "           hourly_SLHF    hourly_SSHF  TRail  \n",
       "2831505  -96664.164062  -65654.414062   19.0  \n",
       "1020649 -184214.500000 -103102.500000   13.0  \n",
       "2109232  -35324.699219   93416.203125   10.0  \n",
       "3014809  -73574.296875  341616.000000   -3.0  \n",
       "2423120  -85627.164062 -359346.656250    6.0  \n",
       "...                ...            ...    ...  \n",
       "3044667   -2174.399902  167160.000000    0.0  \n",
       "1190592  -37316.500000  -40323.714844   12.0  \n",
       "1044912 -559792.000000 -754267.000000   28.0  \n",
       "2622483 -230722.000000   32003.000000   19.0  \n",
       "1413751  -96684.500000  -63005.398438   10.0  \n",
       "\n",
       "[643246 rows x 14 columns]"
      ]
     },
     "execution_count": 19,
     "metadata": {},
     "output_type": "execute_result"
    }
   ],
   "source": [
    "# This dataframe we use to plot the graph of RMSE vs forecast_period\n",
    "df_test = pd.concat([X_test, y_test], axis = 1)\n",
    "df_test"
   ]
  },
  {
   "cell_type": "code",
   "execution_count": 20,
   "id": "4b4eb25e",
   "metadata": {},
   "outputs": [],
   "source": [
    "# create scaling object based on X_train and scale both X_train and X_text\n",
    "from sklearn.preprocessing import StandardScaler\n",
    "scaler = StandardScaler()\n",
    "#fit scaler to training data\n",
    "scaler.fit(X_train)\n",
    "X_train = scaler.transform(X_train)\n",
    "X_test = scaler.transform(X_test)"
   ]
  },
  {
   "cell_type": "code",
   "execution_count": 21,
   "id": "95eb1757",
   "metadata": {},
   "outputs": [],
   "source": [
    "# only xgb\n",
    "regressor = xgb.XGBRegressor(n_estimators=100, max_depth=11, eta=0.3, subsample=0.7, colsample_bytree=0.8)\n"
   ]
  },
  {
   "cell_type": "code",
   "execution_count": 22,
   "id": "73d7d70d",
   "metadata": {
    "scrolled": true
   },
   "outputs": [
    {
     "name": "stdout",
     "output_type": "stream",
     "text": [
      "XGB train error: 2.6175382\n",
      "XGB test error: 2.8395302\n"
     ]
    }
   ],
   "source": [
    "regressor.fit(X_train, y_train)\n",
    "\n",
    "y_trP = regressor.predict(X_train)\n",
    "y_tsP = regressor.predict(X_test)\n",
    "\n",
    "print('XGB train error:', mean_squared_error(y_train,y_trP,squared=False))\n",
    "print('XGB test error:', mean_squared_error(y_test,y_tsP,squared=False))\n"
   ]
  },
  {
   "cell_type": "code",
   "execution_count": 23,
   "id": "eb345679",
   "metadata": {},
   "outputs": [
    {
     "name": "stdout",
     "output_type": "stream",
     "text": [
      "[1, 2, 3, 4, 5, 6, 7, 8, 9, 10, 11, 12, 13, 14, 15, 16, 17, 18, 19, 20, 21, 22, 23, 24, 25, 26, 27, 28, 29, 30, 31, 32, 33, 34, 35, 36, 37, 38, 39, 40, 41, 42, 43, 44, 45, 46, 47, 48, 49, 50, 51, 52, 53, 54, 55, 56, 57, 58, 59, 60, 61, 62, 63, 64, 65, 66, 67, 68, 69, 70, 71, 72, 73, 74, 75, 76, 77, 78, 79, 80, 81, 82, 83, 84, 85, 86, 87, 88, 89, 90, 93, 96, 99, 102, 105, 108, 111, 114, 117, 120, 123, 126, 129, 132, 135, 138, 141, 144, 150, 156, 162, 168, 174, 180, 186, 192, 198, 204, 210, 216, 222, 228, 234, 240]\n"
     ]
    }
   ],
   "source": [
    "# to plot the RMSE vs lead time\n",
    "\n",
    "ajat = sorted(df_test['forecast_period'].unique().tolist())\n",
    "print(ajat)\n",
    "\n",
    "xgb_error = [None] * len(ajat)\n",
    "for i in range(0,len(ajat)):\n",
    "    tmp = df_test[df_test['forecast_period'] == ajat[i]]\n",
    "    \n",
    "    df_x_test_ajat = tmp.drop('TRail', axis =1)\n",
    "    x_test_ajat = scaler.transform(df_x_test_ajat)\n",
    "    y_test_ajat = tmp['TRail']\n",
    "    y_xgb_ajat = regressor.predict(x_test_ajat)\n",
    "    xgb_error[i] = mean_squared_error(y_test_ajat,y_xgb_ajat,squared=False)\n"
   ]
  },
  {
   "cell_type": "code",
   "execution_count": 24,
   "id": "429e4881",
   "metadata": {},
   "outputs": [
    {
     "data": {
      "text/plain": [
       "<matplotlib.legend.Legend at 0x7f61e2ec7820>"
      ]
     },
     "execution_count": 24,
     "metadata": {},
     "output_type": "execute_result"
    },
    {
     "data": {
      "image/png": "[encoded data removed]",
      "text/plain": [
       "<Figure size 640x480 with 1 Axes>"
      ]
     },
     "metadata": {},
     "output_type": "display_data"
    }
   ],
   "source": [
    "plt.plot(ajat, xgb_error, 'b', label=\"XGB\")\n",
    "plt.title(\"XGB RMSE\")\n",
    "plt.xlabel(\"forecast_period\")\n",
    "plt.ylabel(\"RMSE\")\n",
    "plt.legend(loc=\"lower right\")"
   ]
  },
  {
   "cell_type": "code",
   "execution_count": 47,
   "id": "0d653bd7",
   "metadata": {},
   "outputs": [
    {
     "data": {
      "text/plain": [
       "<Figure size 640x480 with 0 Axes>"
      ]
     },
     "metadata": {},
     "output_type": "display_data"
    }
   ],
   "source": [
    "param = 'TRail'\n",
    "plt.savefig('XGB_forecast_period_' + param + '_rmse.png')"
   ]
  },
  {
   "cell_type": "code",
   "execution_count": 48,
   "id": "296f11cc",
   "metadata": {},
   "outputs": [
    {
     "name": "stderr",
     "output_type": "stream",
     "text": [
      "Permutation explainer: 643247it [11:20:14, 15.76it/s]                                                                \n"
     ]
    }
   ],
   "source": [
    "#Shap values\n",
    "import shap\n",
    "explainer = shap.Explainer(regressor.predict, X_test)\n",
    "# Calculates the SHAP values - It takes some time\n",
    "shap_values = explainer(X_test)"
   ]
  },
  {
   "cell_type": "code",
   "execution_count": 49,
   "id": "65f60bb3",
   "metadata": {},
   "outputs": [
    {
     "data": {
      "image/png": "[encoded data removed]",
      "text/plain": [
       "<Figure size 800x670 with 1 Axes>"
      ]
     },
     "metadata": {},
     "output_type": "display_data"
    }
   ],
   "source": [
    "feature_names=X.columns.tolist()\n",
    "feature_names\n",
    "\n",
    "shap.summary_plot(shap_values, X_test,  feature_names=X.columns.tolist(),plot_type=\"bar\", show = True)\n"
   ]
  },
  {
   "cell_type": "code",
   "execution_count": null,
   "id": "e2ba9a36",
   "metadata": {},
   "outputs": [],
   "source": [
    "# RF and XGB refressor"
   ]
  },
  {
   "cell_type": "code",
   "execution_count": 25,
   "id": "f0fbdf6b",
   "metadata": {},
   "outputs": [],
   "source": [
    "RFregressor = RandomForestRegressor(n_estimators=100, max_features='sqrt',random_state=42, max_depth=10, min_samples_split=2, bootstrap=True, min_samples_leaf=1)\n"
   ]
  },
  {
   "cell_type": "code",
   "execution_count": 26,
   "id": "447b446d",
   "metadata": {},
   "outputs": [
    {
     "name": "stdout",
     "output_type": "stream",
     "text": [
      "XGB train error: 2.6175382\n",
      "XGB test error: 2.8395302\n",
      "RF train error: 3.7846965963369805\n",
      "RF test error: 3.799751484203457\n"
     ]
    }
   ],
   "source": [
    "RFregressor.fit(X_train,y_train)\n",
    "regressor.fit(X_train, y_train)\n",
    "\n",
    "y_trRFP = RFregressor.predict(X_train)\n",
    "y_tsRFP = RFregressor.predict(X_test)\n",
    "y_trP = regressor.predict(X_train)\n",
    "y_tsP = regressor.predict(X_test)\n",
    "\n",
    "\n",
    "print('XGB train error:', mean_squared_error(y_train,y_trP,squared=False))\n",
    "print('XGB test error:', mean_squared_error(y_test,y_tsP,squared=False))\n",
    "print('RF train error:', mean_squared_error(y_train,y_trRFP,squared=False))\n",
    "print('RF test error:', mean_squared_error(y_test,y_tsRFP,squared=False))\n"
   ]
  },
  {
   "cell_type": "code",
   "execution_count": 27,
   "id": "d7dfe9d7",
   "metadata": {},
   "outputs": [],
   "source": [
    "LR = LinearRegression()\n",
    "DT = DecisionTreeRegressor()"
   ]
  },
  {
   "cell_type": "code",
   "execution_count": 28,
   "id": "27ca36ab",
   "metadata": {},
   "outputs": [
    {
     "name": "stdout",
     "output_type": "stream",
     "text": [
      "LR train error: 4.5042947384911844\n",
      "LR test error: 4.5081821275799365\n",
      "DT train error: 0.568562609155027\n",
      "DT test error: 2.8768977221272505\n"
     ]
    }
   ],
   "source": [
    "LR.fit(X_train,y_train)\n",
    "DT.fit(X_train, y_train)\n",
    "\n",
    "y_trLR = LR.predict(X_train)\n",
    "y_tsLR = LR.predict(X_test)\n",
    "y_trDT = DT.predict(X_train)\n",
    "y_tsDT = DT.predict(X_test)\n",
    "\n",
    "\n",
    "print('LR train error:', mean_squared_error(y_train,y_trLR,squared=False))\n",
    "print('LR test error:', mean_squared_error(y_test,y_tsLR,squared=False))\n",
    "print('DT train error:', mean_squared_error(y_train,y_trDT,squared=False))\n",
    "print('DT test error:', mean_squared_error(y_test,y_tsDT,squared=False))"
   ]
  },
  {
   "cell_type": "code",
   "execution_count": 30,
   "id": "4f13afda",
   "metadata": {},
   "outputs": [
    {
     "name": "stdout",
     "output_type": "stream",
     "text": [
      "[LinearRegression(), DecisionTreeRegressor(), RandomForestRegressor(max_depth=10, max_features='sqrt', random_state=42), XGBRegressor(base_score=0.5, booster='gbtree', callbacks=None,\n",
      "             colsample_bylevel=1, colsample_bynode=1, colsample_bytree=0.8,\n",
      "             early_stopping_rounds=None, enable_categorical=False, eta=0.3,\n",
      "             eval_metric=None, feature_types=None, gamma=0, gpu_id=-1,\n",
      "             grow_policy='depthwise', importance_type=None,\n",
      "             interaction_constraints='', learning_rate=0.300000012, max_bin=256,\n",
      "             max_cat_threshold=64, max_cat_to_onehot=4, max_delta_step=0,\n",
      "             max_depth=11, max_leaves=0, min_child_weight=1, missing=nan,\n",
      "             monotone_constraints='()', n_estimators=100, n_jobs=0,\n",
      "             num_parallel_tree=1, predictor='auto', ...)]\n"
     ]
    }
   ],
   "source": [
    "#initialize\n",
    "model_list = [LR, DT, RFregressor,regressor]\n",
    "\n",
    "print(model_list)"
   ]
  },
  {
   "cell_type": "code",
   "execution_count": 31,
   "id": "10bacb9e",
   "metadata": {},
   "outputs": [
    {
     "name": "stderr",
     "output_type": "stream",
     "text": [
      "100%|████████████████████████████████████████████| 4/4 [08:42<00:00, 130.52s/it]\n"
     ]
    }
   ],
   "source": [
    "#Import a progress bar so we know how long it is taking\n",
    "import tqdm \n",
    "\n",
    "for model in tqdm.tqdm(model_list):\n",
    "    model.fit(X_train,y_train)"
   ]
  },
  {
   "cell_type": "code",
   "execution_count": 32,
   "id": "24c1a169",
   "metadata": {},
   "outputs": [
    {
     "name": "stdout",
     "output_type": "stream",
     "text": [
      " Model: LR MAE:3.45 , RMSE:4.51 , Bias:-0.0 , Rsquared:0.85\n",
      " Model: DT MAE:1.61 , RMSE:2.88 , Bias:-0.0 , Rsquared:0.94\n",
      " Model: RF MAE:2.79 , RMSE:3.8 , Bias:0.0 , Rsquared:0.89\n",
      " Model: GBT MAE:2.0299999713897705 , RMSE:2.8399999141693115 , Bias:-0.0 , Rsquared:0.94\n"
     ]
    }
   ],
   "source": [
    "from gewitter_functions import get_mae,get_rmse,get_bias,get_r2\n",
    "\n",
    "legend_labels = ['LR','DT','RF','GBT']\n",
    "#loop over all trained models \n",
    "for idx,model in enumerate(model_list):\n",
    "    #get predictions \n",
    "    yhat = model.predict(X_test)\n",
    " \n",
    "    # get metrics\n",
    "    mae = get_mae(y_test,yhat)\n",
    "    rmse = get_rmse(y_test,yhat)\n",
    "    bias = get_bias(y_test,yhat)\n",
    "    r2 = get_r2(y_test,yhat)\n",
    "    #print them out so we can see them \n",
    "    print(' Model: {} MAE:{} , RMSE:{} , Bias:{} , Rsquared:{}'.format(legend_labels[idx], np.round(mae,2),np.round(rmse,2),np.round(bias,2),np.round(r2,2)))\n"
   ]
  },
  {
   "cell_type": "code",
   "execution_count": null,
   "id": "bfdd6783",
   "metadata": {},
   "outputs": [],
   "source": []
  },
  {
   "cell_type": "code",
   "execution_count": null,
   "id": "e7b2f881",
   "metadata": {},
   "outputs": [],
   "source": []
  }
 ],
 "metadata": {
  "kernelspec": {
   "display_name": "Python 3 (ipykernel)",
   "language": "python",
   "name": "python3"
  },
  "language_info": {
   "codemirror_mode": {
    "name": "ipython",
    "version": 3
   },
   "file_extension": ".py",
   "mimetype": "text/x-python",
   "name": "python",
   "nbconvert_exporter": "python",
   "pygments_lexer": "ipython3",
   "version": "3.8.10"
  }
 },
 "nbformat": 4,
 "nbformat_minor": 5
}
