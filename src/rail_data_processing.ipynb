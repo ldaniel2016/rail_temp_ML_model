{
 "cells": [
  {
   "cell_type": "markdown",
   "id": "f8915133",
   "metadata": {},
   "source": [
    "## Data preparation of the rail data\n",
    "Väylävirasto has given the rail temperature data for 11 stations in Finland from September 2019 to May 2023. The forecast data is from MOS Archive.\n",
    "\n"
   ]
  },
  {
   "cell_type": "code",
   "execution_count": 2,
   "id": "99b07f5e",
   "metadata": {},
   "outputs": [],
   "source": [
    "import pandas as pd\n",
    "import numpy as np \n",
    "import matplotlib.pyplot as plt\n",
    "import time\n"
   ]
  },
  {
   "cell_type": "code",
   "execution_count": 3,
   "id": "0afa8169",
   "metadata": {},
   "outputs": [],
   "source": [
    "#station data from Väylävirasto\n",
    "df = pd.read_csv(r'/home/daniel/projects/rails/data/RailTemperatures_with_stations_2023v2.csv', encoding = 'Latin-1',sep = ',')"
   ]
  },
  {
   "cell_type": "code",
   "execution_count": 4,
   "id": "99485f51",
   "metadata": {},
   "outputs": [
    {
     "data": {
      "text/plain": [
       "station        object\n",
       "station_id      int64\n",
       "lat           float64\n",
       "lon           float64\n",
       "X               int64\n",
       "Y               int64\n",
       "Timestamp      object\n",
       "TAir          float64\n",
       "TRail         float64\n",
       "dtype: object"
      ]
     },
     "execution_count": 4,
     "metadata": {},
     "output_type": "execute_result"
    }
   ],
   "source": [
    "df.dtypes"
   ]
  },
  {
   "cell_type": "code",
   "execution_count": null,
   "id": "4a4dd193",
   "metadata": {},
   "outputs": [],
   "source": []
  },
  {
   "cell_type": "code",
   "execution_count": 5,
   "id": "34839bcb",
   "metadata": {},
   "outputs": [
    {
     "data": {
      "text/html": [
       "<div>\n",
       "<style scoped>\n",
       "    .dataframe tbody tr th:only-of-type {\n",
       "        vertical-align: middle;\n",
       "    }\n",
       "\n",
       "    .dataframe tbody tr th {\n",
       "        vertical-align: top;\n",
       "    }\n",
       "\n",
       "    .dataframe thead th {\n",
       "        text-align: right;\n",
       "    }\n",
       "</style>\n",
       "<table border=\"1\" class=\"dataframe\">\n",
       "  <thead>\n",
       "    <tr style=\"text-align: right;\">\n",
       "      <th></th>\n",
       "      <th>station_id</th>\n",
       "      <th>analysis_time</th>\n",
       "      <th>forecast_time</th>\n",
       "      <th>forecast_period</th>\n",
       "      <th>analysis_date</th>\n",
       "      <th>MSL</th>\n",
       "      <th>T2</th>\n",
       "      <th>D2</th>\n",
       "      <th>U10</th>\n",
       "      <th>V10</th>\n",
       "      <th>...</th>\n",
       "      <th>cosmonth</th>\n",
       "      <th>sinmonth</th>\n",
       "      <th>coshour</th>\n",
       "      <th>sinhour</th>\n",
       "      <th>lat</th>\n",
       "      <th>lon</th>\n",
       "      <th>hourly_SRR</th>\n",
       "      <th>hourly_STR</th>\n",
       "      <th>hourly_SLHF</th>\n",
       "      <th>hourly_SSHF</th>\n",
       "    </tr>\n",
       "  </thead>\n",
       "  <tbody>\n",
       "    <tr>\n",
       "      <th>0</th>\n",
       "      <td>10</td>\n",
       "      <td>0</td>\n",
       "      <td>2019-09-07 01:00:00</td>\n",
       "      <td>1</td>\n",
       "      <td>2019-09-07</td>\n",
       "      <td>101743.2</td>\n",
       "      <td>284.1</td>\n",
       "      <td>283.3</td>\n",
       "      <td>2.5</td>\n",
       "      <td>0.4</td>\n",
       "      <td>...</td>\n",
       "      <td>0.0</td>\n",
       "      <td>-1.0</td>\n",
       "      <td>0.97</td>\n",
       "      <td>0.26</td>\n",
       "      <td>62.397832</td>\n",
       "      <td>30.027159</td>\n",
       "      <td>0.000000e+00</td>\n",
       "      <td>-141475.500000</td>\n",
       "      <td>-60470.500000</td>\n",
       "      <td>67784.400000</td>\n",
       "    </tr>\n",
       "    <tr>\n",
       "      <th>1</th>\n",
       "      <td>10</td>\n",
       "      <td>0</td>\n",
       "      <td>2019-09-07 02:00:00</td>\n",
       "      <td>2</td>\n",
       "      <td>2019-09-07</td>\n",
       "      <td>101818.8</td>\n",
       "      <td>283.6</td>\n",
       "      <td>282.8</td>\n",
       "      <td>2.3</td>\n",
       "      <td>0.3</td>\n",
       "      <td>...</td>\n",
       "      <td>0.0</td>\n",
       "      <td>-1.0</td>\n",
       "      <td>0.87</td>\n",
       "      <td>0.50</td>\n",
       "      <td>62.397832</td>\n",
       "      <td>30.027159</td>\n",
       "      <td>0.000000e+00</td>\n",
       "      <td>-256928.000000</td>\n",
       "      <td>-32600.200000</td>\n",
       "      <td>50426.400000</td>\n",
       "    </tr>\n",
       "    <tr>\n",
       "      <th>2</th>\n",
       "      <td>10</td>\n",
       "      <td>0</td>\n",
       "      <td>2019-09-07 03:00:00</td>\n",
       "      <td>3</td>\n",
       "      <td>2019-09-07</td>\n",
       "      <td>101899.5</td>\n",
       "      <td>283.4</td>\n",
       "      <td>282.7</td>\n",
       "      <td>2.2</td>\n",
       "      <td>0.8</td>\n",
       "      <td>...</td>\n",
       "      <td>0.0</td>\n",
       "      <td>-1.0</td>\n",
       "      <td>0.71</td>\n",
       "      <td>0.71</td>\n",
       "      <td>62.397832</td>\n",
       "      <td>30.027159</td>\n",
       "      <td>0.000000e+00</td>\n",
       "      <td>-271362.100000</td>\n",
       "      <td>-28831.000000</td>\n",
       "      <td>35452.300000</td>\n",
       "    </tr>\n",
       "    <tr>\n",
       "      <th>3</th>\n",
       "      <td>10</td>\n",
       "      <td>0</td>\n",
       "      <td>2019-09-07 04:00:00</td>\n",
       "      <td>4</td>\n",
       "      <td>2019-09-07</td>\n",
       "      <td>101967.3</td>\n",
       "      <td>283.5</td>\n",
       "      <td>282.8</td>\n",
       "      <td>2.5</td>\n",
       "      <td>0.7</td>\n",
       "      <td>...</td>\n",
       "      <td>0.0</td>\n",
       "      <td>-1.0</td>\n",
       "      <td>0.50</td>\n",
       "      <td>0.87</td>\n",
       "      <td>62.397832</td>\n",
       "      <td>30.027159</td>\n",
       "      <td>6.882370e+04</td>\n",
       "      <td>-293050.300000</td>\n",
       "      <td>-46265.100000</td>\n",
       "      <td>42631.400000</td>\n",
       "    </tr>\n",
       "    <tr>\n",
       "      <th>4</th>\n",
       "      <td>10</td>\n",
       "      <td>0</td>\n",
       "      <td>2019-09-07 05:00:00</td>\n",
       "      <td>5</td>\n",
       "      <td>2019-09-07</td>\n",
       "      <td>102039.0</td>\n",
       "      <td>284.3</td>\n",
       "      <td>282.9</td>\n",
       "      <td>2.2</td>\n",
       "      <td>0.5</td>\n",
       "      <td>...</td>\n",
       "      <td>0.0</td>\n",
       "      <td>-1.0</td>\n",
       "      <td>0.26</td>\n",
       "      <td>0.97</td>\n",
       "      <td>62.397832</td>\n",
       "      <td>30.027159</td>\n",
       "      <td>3.580963e+05</td>\n",
       "      <td>-321952.400000</td>\n",
       "      <td>-145720.200000</td>\n",
       "      <td>1171.000000</td>\n",
       "    </tr>\n",
       "    <tr>\n",
       "      <th>...</th>\n",
       "      <td>...</td>\n",
       "      <td>...</td>\n",
       "      <td>...</td>\n",
       "      <td>...</td>\n",
       "      <td>...</td>\n",
       "      <td>...</td>\n",
       "      <td>...</td>\n",
       "      <td>...</td>\n",
       "      <td>...</td>\n",
       "      <td>...</td>\n",
       "      <td>...</td>\n",
       "      <td>...</td>\n",
       "      <td>...</td>\n",
       "      <td>...</td>\n",
       "      <td>...</td>\n",
       "      <td>...</td>\n",
       "      <td>...</td>\n",
       "      <td>...</td>\n",
       "      <td>...</td>\n",
       "      <td>...</td>\n",
       "      <td>...</td>\n",
       "    </tr>\n",
       "    <tr>\n",
       "      <th>3705609</th>\n",
       "      <td>110</td>\n",
       "      <td>12</td>\n",
       "      <td>2023-06-12 12:00:00</td>\n",
       "      <td>240</td>\n",
       "      <td>2023-06-02 12:00:00</td>\n",
       "      <td>102111.0</td>\n",
       "      <td>294.4</td>\n",
       "      <td>281.2</td>\n",
       "      <td>2.6</td>\n",
       "      <td>2.8</td>\n",
       "      <td>...</td>\n",
       "      <td>-1.0</td>\n",
       "      <td>0.0</td>\n",
       "      <td>-1.00</td>\n",
       "      <td>0.00</td>\n",
       "      <td>66.141150</td>\n",
       "      <td>24.921643</td>\n",
       "      <td>1.726848e+06</td>\n",
       "      <td>-301524.666667</td>\n",
       "      <td>-482150.666667</td>\n",
       "      <td>-642968.666667</td>\n",
       "    </tr>\n",
       "    <tr>\n",
       "      <th>3705610</th>\n",
       "      <td>110</td>\n",
       "      <td>12</td>\n",
       "      <td>2023-06-12 18:00:00</td>\n",
       "      <td>222</td>\n",
       "      <td>2023-06-03 12:00:00</td>\n",
       "      <td>102022.2</td>\n",
       "      <td>289.2</td>\n",
       "      <td>274.7</td>\n",
       "      <td>1.5</td>\n",
       "      <td>-2.5</td>\n",
       "      <td>...</td>\n",
       "      <td>-1.0</td>\n",
       "      <td>0.0</td>\n",
       "      <td>0.00</td>\n",
       "      <td>-1.00</td>\n",
       "      <td>66.141150</td>\n",
       "      <td>24.921643</td>\n",
       "      <td>1.179019e+06</td>\n",
       "      <td>-335230.000000</td>\n",
       "      <td>-442266.000000</td>\n",
       "      <td>-209314.000000</td>\n",
       "    </tr>\n",
       "    <tr>\n",
       "      <th>3705611</th>\n",
       "      <td>110</td>\n",
       "      <td>12</td>\n",
       "      <td>2023-06-13</td>\n",
       "      <td>228</td>\n",
       "      <td>2023-06-03 12:00:00</td>\n",
       "      <td>102400.0</td>\n",
       "      <td>279.8</td>\n",
       "      <td>273.6</td>\n",
       "      <td>-0.9</td>\n",
       "      <td>-2.2</td>\n",
       "      <td>...</td>\n",
       "      <td>-1.0</td>\n",
       "      <td>0.0</td>\n",
       "      <td>1.00</td>\n",
       "      <td>0.00</td>\n",
       "      <td>66.141150</td>\n",
       "      <td>24.921643</td>\n",
       "      <td>9.457600e+04</td>\n",
       "      <td>-325212.666667</td>\n",
       "      <td>-81877.333333</td>\n",
       "      <td>177692.666667</td>\n",
       "    </tr>\n",
       "    <tr>\n",
       "      <th>3705612</th>\n",
       "      <td>110</td>\n",
       "      <td>12</td>\n",
       "      <td>2023-06-13 06:00:00</td>\n",
       "      <td>234</td>\n",
       "      <td>2023-06-03 12:00:00</td>\n",
       "      <td>102434.4</td>\n",
       "      <td>286.9</td>\n",
       "      <td>277.2</td>\n",
       "      <td>0.5</td>\n",
       "      <td>0.7</td>\n",
       "      <td>...</td>\n",
       "      <td>-1.0</td>\n",
       "      <td>0.0</td>\n",
       "      <td>0.00</td>\n",
       "      <td>1.00</td>\n",
       "      <td>66.141150</td>\n",
       "      <td>24.921643</td>\n",
       "      <td>6.480613e+05</td>\n",
       "      <td>-336188.000000</td>\n",
       "      <td>-138500.000000</td>\n",
       "      <td>-154909.333333</td>\n",
       "    </tr>\n",
       "    <tr>\n",
       "      <th>3705613</th>\n",
       "      <td>110</td>\n",
       "      <td>12</td>\n",
       "      <td>2023-06-13 12:00:00</td>\n",
       "      <td>240</td>\n",
       "      <td>2023-06-03 12:00:00</td>\n",
       "      <td>102170.3</td>\n",
       "      <td>291.8</td>\n",
       "      <td>274.4</td>\n",
       "      <td>2.4</td>\n",
       "      <td>1.6</td>\n",
       "      <td>...</td>\n",
       "      <td>-1.0</td>\n",
       "      <td>0.0</td>\n",
       "      <td>-1.00</td>\n",
       "      <td>0.00</td>\n",
       "      <td>66.141150</td>\n",
       "      <td>24.921643</td>\n",
       "      <td>2.155259e+06</td>\n",
       "      <td>-431121.333333</td>\n",
       "      <td>-554160.000000</td>\n",
       "      <td>-908504.666667</td>\n",
       "    </tr>\n",
       "  </tbody>\n",
       "</table>\n",
       "<p>3705614 rows × 31 columns</p>\n",
       "</div>"
      ],
      "text/plain": [
       "         station_id  analysis_time        forecast_time  forecast_period  \\\n",
       "0                10              0  2019-09-07 01:00:00                1   \n",
       "1                10              0  2019-09-07 02:00:00                2   \n",
       "2                10              0  2019-09-07 03:00:00                3   \n",
       "3                10              0  2019-09-07 04:00:00                4   \n",
       "4                10              0  2019-09-07 05:00:00                5   \n",
       "...             ...            ...                  ...              ...   \n",
       "3705609         110             12  2023-06-12 12:00:00              240   \n",
       "3705610         110             12  2023-06-12 18:00:00              222   \n",
       "3705611         110             12           2023-06-13              228   \n",
       "3705612         110             12  2023-06-13 06:00:00              234   \n",
       "3705613         110             12  2023-06-13 12:00:00              240   \n",
       "\n",
       "               analysis_date       MSL     T2     D2  U10  V10  ...  cosmonth  \\\n",
       "0                 2019-09-07  101743.2  284.1  283.3  2.5  0.4  ...       0.0   \n",
       "1                 2019-09-07  101818.8  283.6  282.8  2.3  0.3  ...       0.0   \n",
       "2                 2019-09-07  101899.5  283.4  282.7  2.2  0.8  ...       0.0   \n",
       "3                 2019-09-07  101967.3  283.5  282.8  2.5  0.7  ...       0.0   \n",
       "4                 2019-09-07  102039.0  284.3  282.9  2.2  0.5  ...       0.0   \n",
       "...                      ...       ...    ...    ...  ...  ...  ...       ...   \n",
       "3705609  2023-06-02 12:00:00  102111.0  294.4  281.2  2.6  2.8  ...      -1.0   \n",
       "3705610  2023-06-03 12:00:00  102022.2  289.2  274.7  1.5 -2.5  ...      -1.0   \n",
       "3705611  2023-06-03 12:00:00  102400.0  279.8  273.6 -0.9 -2.2  ...      -1.0   \n",
       "3705612  2023-06-03 12:00:00  102434.4  286.9  277.2  0.5  0.7  ...      -1.0   \n",
       "3705613  2023-06-03 12:00:00  102170.3  291.8  274.4  2.4  1.6  ...      -1.0   \n",
       "\n",
       "         sinmonth  coshour  sinhour        lat        lon    hourly_SRR  \\\n",
       "0            -1.0     0.97     0.26  62.397832  30.027159  0.000000e+00   \n",
       "1            -1.0     0.87     0.50  62.397832  30.027159  0.000000e+00   \n",
       "2            -1.0     0.71     0.71  62.397832  30.027159  0.000000e+00   \n",
       "3            -1.0     0.50     0.87  62.397832  30.027159  6.882370e+04   \n",
       "4            -1.0     0.26     0.97  62.397832  30.027159  3.580963e+05   \n",
       "...           ...      ...      ...        ...        ...           ...   \n",
       "3705609       0.0    -1.00     0.00  66.141150  24.921643  1.726848e+06   \n",
       "3705610       0.0     0.00    -1.00  66.141150  24.921643  1.179019e+06   \n",
       "3705611       0.0     1.00     0.00  66.141150  24.921643  9.457600e+04   \n",
       "3705612       0.0     0.00     1.00  66.141150  24.921643  6.480613e+05   \n",
       "3705613       0.0    -1.00     0.00  66.141150  24.921643  2.155259e+06   \n",
       "\n",
       "            hourly_STR    hourly_SLHF    hourly_SSHF  \n",
       "0       -141475.500000  -60470.500000   67784.400000  \n",
       "1       -256928.000000  -32600.200000   50426.400000  \n",
       "2       -271362.100000  -28831.000000   35452.300000  \n",
       "3       -293050.300000  -46265.100000   42631.400000  \n",
       "4       -321952.400000 -145720.200000    1171.000000  \n",
       "...                ...            ...            ...  \n",
       "3705609 -301524.666667 -482150.666667 -642968.666667  \n",
       "3705610 -335230.000000 -442266.000000 -209314.000000  \n",
       "3705611 -325212.666667  -81877.333333  177692.666667  \n",
       "3705612 -336188.000000 -138500.000000 -154909.333333  \n",
       "3705613 -431121.333333 -554160.000000 -908504.666667  \n",
       "\n",
       "[3705614 rows x 31 columns]"
      ]
     },
     "execution_count": 5,
     "metadata": {},
     "output_type": "execute_result"
    }
   ],
   "source": [
    "# Weather forecast data from Mos archive data and calculating the hourly values\n",
    "dfmos = pd.read_csv(r'/home/daniel/projects/rails/data/mos_archive_data_hourly_data_for_all_rail_stations.csv', sep = ',')\n",
    "dfmos"
   ]
  },
  {
   "cell_type": "code",
   "execution_count": 6,
   "id": "5636963c",
   "metadata": {},
   "outputs": [
    {
     "data": {
      "text/plain": [
       "station_id           int64\n",
       "analysis_time        int64\n",
       "forecast_time       object\n",
       "forecast_period      int64\n",
       "analysis_date       object\n",
       "MSL                float64\n",
       "T2                 float64\n",
       "D2                 float64\n",
       "U10                float64\n",
       "V10                float64\n",
       "LCC                float64\n",
       "MCC                float64\n",
       "SKT                float64\n",
       "MX2T               float64\n",
       "MN2T               float64\n",
       "T_925              float64\n",
       "T2_ENSMEAN_MA1     float64\n",
       "SRR                float64\n",
       "STR                float64\n",
       "SLHF               float64\n",
       "SSHF               float64\n",
       "cosmonth           float64\n",
       "sinmonth           float64\n",
       "coshour            float64\n",
       "sinhour            float64\n",
       "lat                float64\n",
       "lon                float64\n",
       "hourly_SRR         float64\n",
       "hourly_STR         float64\n",
       "hourly_SLHF        float64\n",
       "hourly_SSHF        float64\n",
       "dtype: object"
      ]
     },
     "execution_count": 6,
     "metadata": {},
     "output_type": "execute_result"
    }
   ],
   "source": [
    "dfmos.dtypes"
   ]
  },
  {
   "cell_type": "code",
   "execution_count": 7,
   "id": "ed5a7fba",
   "metadata": {},
   "outputs": [
    {
     "data": {
      "text/plain": [
       "Index(['station_id', 'analysis_time', 'forecast_time', 'forecast_period',\n",
       "       'analysis_date', 'MSL', 'T2', 'D2', 'U10', 'V10', 'LCC', 'MCC', 'SKT',\n",
       "       'MX2T', 'MN2T', 'T_925', 'T2_ENSMEAN_MA1', 'SRR', 'STR', 'SLHF', 'SSHF',\n",
       "       'cosmonth', 'sinmonth', 'coshour', 'sinhour', 'lat', 'lon',\n",
       "       'hourly_SRR', 'hourly_STR', 'hourly_SLHF', 'hourly_SSHF'],\n",
       "      dtype='object')"
      ]
     },
     "execution_count": 7,
     "metadata": {},
     "output_type": "execute_result"
    }
   ],
   "source": [
    "dfmos.columns"
   ]
  },
  {
   "cell_type": "code",
   "execution_count": 8,
   "id": "014d0fc0",
   "metadata": {},
   "outputs": [
    {
     "data": {
      "text/plain": [
       "('2019-09-17 12:00:00', '2023-06-01 23:00:00')"
      ]
     },
     "execution_count": 8,
     "metadata": {},
     "output_type": "execute_result"
    }
   ],
   "source": [
    "(min(df.Timestamp), max(df.Timestamp))"
   ]
  },
  {
   "cell_type": "code",
   "execution_count": 9,
   "id": "f0868194",
   "metadata": {},
   "outputs": [
    {
     "data": {
      "text/plain": [
       "('2019-09-07 01:00:00', '2023-06-14')"
      ]
     },
     "execution_count": 9,
     "metadata": {},
     "output_type": "execute_result"
    }
   ],
   "source": [
    "(min(dfmos.forecast_time), max(dfmos.forecast_time))"
   ]
  },
  {
   "cell_type": "code",
   "execution_count": 10,
   "id": "451718d7",
   "metadata": {},
   "outputs": [
    {
     "data": {
      "text/plain": [
       "<bound method NDFrame.describe of          station_id  analysis_time        forecast_time  forecast_period  \\\n",
       "0                10              0  2019-09-07 01:00:00                1   \n",
       "1                10              0  2019-09-07 02:00:00                2   \n",
       "2                10              0  2019-09-07 03:00:00                3   \n",
       "3                10              0  2019-09-07 04:00:00                4   \n",
       "4                10              0  2019-09-07 05:00:00                5   \n",
       "...             ...            ...                  ...              ...   \n",
       "3705609         110             12  2023-06-12 12:00:00              240   \n",
       "3705610         110             12  2023-06-12 18:00:00              222   \n",
       "3705611         110             12           2023-06-13              228   \n",
       "3705612         110             12  2023-06-13 06:00:00              234   \n",
       "3705613         110             12  2023-06-13 12:00:00              240   \n",
       "\n",
       "               analysis_date       MSL     T2     D2  U10  V10  ...  cosmonth  \\\n",
       "0                 2019-09-07  101743.2  284.1  283.3  2.5  0.4  ...       0.0   \n",
       "1                 2019-09-07  101818.8  283.6  282.8  2.3  0.3  ...       0.0   \n",
       "2                 2019-09-07  101899.5  283.4  282.7  2.2  0.8  ...       0.0   \n",
       "3                 2019-09-07  101967.3  283.5  282.8  2.5  0.7  ...       0.0   \n",
       "4                 2019-09-07  102039.0  284.3  282.9  2.2  0.5  ...       0.0   \n",
       "...                      ...       ...    ...    ...  ...  ...  ...       ...   \n",
       "3705609  2023-06-02 12:00:00  102111.0  294.4  281.2  2.6  2.8  ...      -1.0   \n",
       "3705610  2023-06-03 12:00:00  102022.2  289.2  274.7  1.5 -2.5  ...      -1.0   \n",
       "3705611  2023-06-03 12:00:00  102400.0  279.8  273.6 -0.9 -2.2  ...      -1.0   \n",
       "3705612  2023-06-03 12:00:00  102434.4  286.9  277.2  0.5  0.7  ...      -1.0   \n",
       "3705613  2023-06-03 12:00:00  102170.3  291.8  274.4  2.4  1.6  ...      -1.0   \n",
       "\n",
       "         sinmonth  coshour  sinhour        lat        lon    hourly_SRR  \\\n",
       "0            -1.0     0.97     0.26  62.397832  30.027159  0.000000e+00   \n",
       "1            -1.0     0.87     0.50  62.397832  30.027159  0.000000e+00   \n",
       "2            -1.0     0.71     0.71  62.397832  30.027159  0.000000e+00   \n",
       "3            -1.0     0.50     0.87  62.397832  30.027159  6.882370e+04   \n",
       "4            -1.0     0.26     0.97  62.397832  30.027159  3.580963e+05   \n",
       "...           ...      ...      ...        ...        ...           ...   \n",
       "3705609       0.0    -1.00     0.00  66.141150  24.921643  1.726848e+06   \n",
       "3705610       0.0     0.00    -1.00  66.141150  24.921643  1.179019e+06   \n",
       "3705611       0.0     1.00     0.00  66.141150  24.921643  9.457600e+04   \n",
       "3705612       0.0     0.00     1.00  66.141150  24.921643  6.480613e+05   \n",
       "3705613       0.0    -1.00     0.00  66.141150  24.921643  2.155259e+06   \n",
       "\n",
       "            hourly_STR    hourly_SLHF    hourly_SSHF  \n",
       "0       -141475.500000  -60470.500000   67784.400000  \n",
       "1       -256928.000000  -32600.200000   50426.400000  \n",
       "2       -271362.100000  -28831.000000   35452.300000  \n",
       "3       -293050.300000  -46265.100000   42631.400000  \n",
       "4       -321952.400000 -145720.200000    1171.000000  \n",
       "...                ...            ...            ...  \n",
       "3705609 -301524.666667 -482150.666667 -642968.666667  \n",
       "3705610 -335230.000000 -442266.000000 -209314.000000  \n",
       "3705611 -325212.666667  -81877.333333  177692.666667  \n",
       "3705612 -336188.000000 -138500.000000 -154909.333333  \n",
       "3705613 -431121.333333 -554160.000000 -908504.666667  \n",
       "\n",
       "[3705614 rows x 31 columns]>"
      ]
     },
     "execution_count": 10,
     "metadata": {},
     "output_type": "execute_result"
    }
   ],
   "source": [
    "dfmos.describe"
   ]
  },
  {
   "cell_type": "code",
   "execution_count": 11,
   "id": "5bdd2492",
   "metadata": {},
   "outputs": [
    {
     "data": {
      "text/plain": [
       "station_id               0\n",
       "analysis_time            0\n",
       "forecast_time            0\n",
       "forecast_period          0\n",
       "analysis_date            0\n",
       "MSL                      0\n",
       "T2                    1364\n",
       "D2                    1364\n",
       "U10                   4092\n",
       "V10                   4092\n",
       "LCC                      0\n",
       "MCC                      0\n",
       "SKT                      0\n",
       "MX2T                 38192\n",
       "MN2T                 38192\n",
       "T_925                35464\n",
       "T2_ENSMEAN_MA1     1793924\n",
       "SRR                      0\n",
       "STR                      1\n",
       "SLHF                     2\n",
       "SSHF                     0\n",
       "cosmonth                 0\n",
       "sinmonth                 0\n",
       "coshour                  0\n",
       "sinhour                  0\n",
       "lat                      0\n",
       "lon                      0\n",
       "hourly_SRR               0\n",
       "hourly_STR               2\n",
       "hourly_SLHF              4\n",
       "hourly_SSHF              0\n",
       "dtype: int64"
      ]
     },
     "execution_count": 11,
     "metadata": {},
     "output_type": "execute_result"
    }
   ],
   "source": [
    "dfmos.isnull().sum()"
   ]
  },
  {
   "cell_type": "code",
   "execution_count": 12,
   "id": "b830ac5c",
   "metadata": {},
   "outputs": [],
   "source": [
    "cols = ['station_id', 'analysis_time', 'forecast_time', 'forecast_period',\n",
    "       'analysis_date', 'MSL', 'T2', 'D2', 'U10', 'V10', 'LCC', 'MCC', 'SKT',\n",
    "       'cosmonth', 'sinmonth', 'coshour', 'sinhour', 'lat', 'lon',\n",
    "       'hourly_SRR', 'hourly_STR', 'hourly_SLHF', 'hourly_SSHF']"
   ]
  },
  {
   "cell_type": "code",
   "execution_count": 13,
   "id": "040fbd35",
   "metadata": {},
   "outputs": [],
   "source": [
    "dfmos = dfmos[cols]"
   ]
  },
  {
   "cell_type": "code",
   "execution_count": 14,
   "id": "84b183d9",
   "metadata": {},
   "outputs": [
    {
     "data": {
      "text/plain": [
       "(419918, 30)"
      ]
     },
     "execution_count": 14,
     "metadata": {},
     "output_type": "execute_result"
    }
   ],
   "source": [
    "dfmosrail= dfmos.merge(df,left_on = ['forecast_time','lat', 'lon'], right_on = ['Timestamp','lat', 'lon'])\n",
    "dfmosrail.shape"
   ]
  },
  {
   "cell_type": "code",
   "execution_count": 15,
   "id": "25f3a20e",
   "metadata": {},
   "outputs": [
    {
     "data": {
      "text/plain": [
       "Index(['station_id_x', 'analysis_time', 'forecast_time', 'forecast_period',\n",
       "       'analysis_date', 'MSL', 'T2', 'D2', 'U10', 'V10', 'LCC', 'MCC', 'SKT',\n",
       "       'cosmonth', 'sinmonth', 'coshour', 'sinhour', 'lat', 'lon',\n",
       "       'hourly_SRR', 'hourly_STR', 'hourly_SLHF', 'hourly_SSHF', 'station',\n",
       "       'station_id_y', 'X', 'Y', 'Timestamp', 'TAir', 'TRail'],\n",
       "      dtype='object')"
      ]
     },
     "execution_count": 15,
     "metadata": {},
     "output_type": "execute_result"
    }
   ],
   "source": [
    "dfmosrail.columns"
   ]
  },
  {
   "cell_type": "code",
   "execution_count": 16,
   "id": "9f9d5da2",
   "metadata": {},
   "outputs": [],
   "source": [
    "cols = ['lat', 'lon', 'analysis_date','analysis_time', 'forecast_time', 'forecast_period',\n",
    "        'MSL', 'T2', 'D2', 'U10', 'V10', 'LCC', 'MCC', 'SKT',\n",
    "       'cosmonth', 'sinmonth', 'coshour', 'sinhour',\n",
    "       'hourly_SRR', 'hourly_STR', 'hourly_SLHF', 'hourly_SSHF', 'X', 'Y', 'Timestamp', 'TAir', 'TRail']"
   ]
  },
  {
   "cell_type": "code",
   "execution_count": 17,
   "id": "47e2ebab",
   "metadata": {},
   "outputs": [
    {
     "data": {
      "text/plain": [
       "(419918, 27)"
      ]
     },
     "execution_count": 17,
     "metadata": {},
     "output_type": "execute_result"
    }
   ],
   "source": [
    "dfmosrail = dfmosrail[cols]\n",
    "dfmosrail.shape"
   ]
  },
  {
   "cell_type": "code",
   "execution_count": 18,
   "id": "84a5fc8e",
   "metadata": {},
   "outputs": [
    {
     "data": {
      "text/plain": [
       "Index(['lat', 'lon', 'MSL', 'T2', 'D2', 'U10', 'V10', 'LCC', 'MCC', 'SKT',\n",
       "       'cosmonth', 'sinmonth', 'coshour', 'sinhour', 'hourly_SRR',\n",
       "       'hourly_STR', 'hourly_SLHF', 'hourly_SSHF', 'TAir', 'TRail'],\n",
       "      dtype='object')"
      ]
     },
     "execution_count": 18,
     "metadata": {},
     "output_type": "execute_result"
    }
   ],
   "source": [
    "cols = dfmosrail.select_dtypes(include=[np.float64]).columns\n",
    "cols"
   ]
  },
  {
   "cell_type": "code",
   "execution_count": 19,
   "id": "90af2f73",
   "metadata": {},
   "outputs": [
    {
     "data": {
      "text/plain": [
       "lat                float32\n",
       "lon                float32\n",
       "analysis_date       object\n",
       "analysis_time        int64\n",
       "forecast_time       object\n",
       "forecast_period      int64\n",
       "MSL                float32\n",
       "T2                 float32\n",
       "D2                 float32\n",
       "U10                float32\n",
       "V10                float32\n",
       "LCC                float32\n",
       "MCC                float32\n",
       "SKT                float32\n",
       "cosmonth           float32\n",
       "sinmonth           float32\n",
       "coshour            float32\n",
       "sinhour            float32\n",
       "hourly_SRR         float32\n",
       "hourly_STR         float32\n",
       "hourly_SLHF        float32\n",
       "hourly_SSHF        float32\n",
       "X                    int64\n",
       "Y                    int64\n",
       "Timestamp           object\n",
       "TAir               float32\n",
       "TRail              float32\n",
       "dtype: object"
      ]
     },
     "execution_count": 19,
     "metadata": {},
     "output_type": "execute_result"
    }
   ],
   "source": [
    "dfmosrail[cols] = dfmosrail[cols].astype(np.float32)\n",
    "dfmosrail.dtypes"
   ]
  },
  {
   "cell_type": "code",
   "execution_count": 20,
   "id": "90fac872",
   "metadata": {},
   "outputs": [
    {
     "data": {
      "text/plain": [
       "Index(['analysis_time', 'forecast_period', 'X', 'Y'], dtype='object')"
      ]
     },
     "execution_count": 20,
     "metadata": {},
     "output_type": "execute_result"
    }
   ],
   "source": [
    "cols = dfmosrail.select_dtypes(include=[np.int64]).columns\n",
    "cols"
   ]
  },
  {
   "cell_type": "code",
   "execution_count": 21,
   "id": "85b438c8",
   "metadata": {},
   "outputs": [],
   "source": [
    "dfmosrail[cols] = dfmosrail[cols].astype(np.int32)"
   ]
  },
  {
   "cell_type": "code",
   "execution_count": 22,
   "id": "510a2c2b",
   "metadata": {},
   "outputs": [
    {
     "data": {
      "text/plain": [
       "lat                float32\n",
       "lon                float32\n",
       "analysis_date       object\n",
       "analysis_time        int32\n",
       "forecast_time       object\n",
       "forecast_period      int32\n",
       "MSL                float32\n",
       "T2                 float32\n",
       "D2                 float32\n",
       "U10                float32\n",
       "V10                float32\n",
       "LCC                float32\n",
       "MCC                float32\n",
       "SKT                float32\n",
       "cosmonth           float32\n",
       "sinmonth           float32\n",
       "coshour            float32\n",
       "sinhour            float32\n",
       "hourly_SRR         float32\n",
       "hourly_STR         float32\n",
       "hourly_SLHF        float32\n",
       "hourly_SSHF        float32\n",
       "X                    int32\n",
       "Y                    int32\n",
       "Timestamp           object\n",
       "TAir               float32\n",
       "TRail              float32\n",
       "dtype: object"
      ]
     },
     "execution_count": 22,
     "metadata": {},
     "output_type": "execute_result"
    }
   ],
   "source": [
    "dfmosrail.dtypes"
   ]
  },
  {
   "cell_type": "code",
   "execution_count": null,
   "id": "975aa557",
   "metadata": {},
   "outputs": [],
   "source": [
    "# save the data \n",
    "dfmosrail.to_csv('/home/daniel/projects/rails/data/rail_temperatures_mos_data.csv', sep = ',', index = False)"
   ]
  },
  {
   "cell_type": "code",
   "execution_count": null,
   "id": "72680310",
   "metadata": {},
   "outputs": [],
   "source": []
  },
  {
   "cell_type": "code",
   "execution_count": null,
   "id": "09a34326",
   "metadata": {},
   "outputs": [],
   "source": []
  }
 ],
 "metadata": {
  "kernelspec": {
   "display_name": "Python 3 (ipykernel)",
   "language": "python",
   "name": "python3"
  },
  "language_info": {
   "codemirror_mode": {
    "name": "ipython",
    "version": 3
   },
   "file_extension": ".py",
   "mimetype": "text/x-python",
   "name": "python",
   "nbconvert_exporter": "python",
   "pygments_lexer": "ipython3",
   "version": "3.8.10"
  }
 },
 "nbformat": 4,
 "nbformat_minor": 5
}
